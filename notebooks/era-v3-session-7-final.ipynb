{
 "cells": [
  {
   "cell_type": "code",
   "execution_count": 1,
   "metadata": {
    "execution": {
     "iopub.execute_input": "2024-12-11T18:01:28.135113Z",
     "iopub.status.busy": "2024-12-11T18:01:28.134271Z",
     "iopub.status.idle": "2024-12-11T18:01:37.717774Z",
     "shell.execute_reply": "2024-12-11T18:01:37.716936Z",
     "shell.execute_reply.started": "2024-12-11T18:01:28.135069Z"
    },
    "trusted": true
   },
   "outputs": [
    {
     "name": "stdout",
     "output_type": "stream",
     "text": [
      "Collecting torchsummary\n",
      "  Downloading torchsummary-1.5.1-py3-none-any.whl.metadata (296 bytes)\n",
      "Downloading torchsummary-1.5.1-py3-none-any.whl (2.8 kB)\n",
      "Installing collected packages: torchsummary\n",
      "Successfully installed torchsummary-1.5.1\n"
     ]
    }
   ],
   "source": [
    "!pip install torchsummary"
   ]
  },
  {
   "cell_type": "code",
   "execution_count": 2,
   "metadata": {
    "_cell_guid": "b1076dfc-b9ad-4769-8c92-a6c4dae69d19",
    "_uuid": "8f2839f25d086af736a60e9eeb907d3b93b6e0e5",
    "execution": {
     "iopub.execute_input": "2024-12-11T18:01:41.334522Z",
     "iopub.status.busy": "2024-12-11T18:01:41.334164Z",
     "iopub.status.idle": "2024-12-11T18:01:45.107777Z",
     "shell.execute_reply": "2024-12-11T18:01:45.107099Z",
     "shell.execute_reply.started": "2024-12-11T18:01:41.334489Z"
    },
    "trusted": true
   },
   "outputs": [],
   "source": [
    "from __future__ import print_function\n",
    "import torch\n",
    "import torch.nn as nn\n",
    "import torch.nn.functional as F\n",
    "import torch.optim as optim\n",
    "from torchvision import datasets, transforms\n",
    "from torch.optim.lr_scheduler import ReduceLROnPlateau\n",
    "import random\n",
    "import matplotlib.pyplot as plt\n",
    "from torchsummary import summary\n",
    "import os"
   ]
  },
  {
   "cell_type": "markdown",
   "metadata": {},
   "source": [
    "### Functions & utilities"
   ]
  },
  {
   "cell_type": "code",
   "execution_count": 5,
   "metadata": {
    "execution": {
     "iopub.execute_input": "2024-12-11T14:39:14.318348Z",
     "iopub.status.busy": "2024-12-11T14:39:14.317622Z",
     "iopub.status.idle": "2024-12-11T14:39:14.324599Z",
     "shell.execute_reply": "2024-12-11T14:39:14.323677Z",
     "shell.execute_reply.started": "2024-12-11T14:39:14.318313Z"
    },
    "trusted": true
   },
   "outputs": [],
   "source": [
    "def plot_random_mnist_images(test_loader, num_images=49):\n",
    "    # Gather all images and labels from the test loader\n",
    "    all_images, all_labels = [], []\n",
    "    for images, labels in test_loader:\n",
    "        all_images.append(images)\n",
    "        all_labels.append(labels)\n",
    "\n",
    "    # Combine all batches into single tensors\n",
    "    all_images = torch.cat(all_images, dim=0)\n",
    "    all_labels = torch.cat(all_labels, dim=0)\n",
    "\n",
    "    # Select random indices\n",
    "    indices = random.sample(range(len(all_images)), num_images)\n",
    "\n",
    "    # Plot the selected images\n",
    "    plt.figure(figsize=(10, 10))\n",
    "    for i, idx in enumerate(indices):\n",
    "        plt.subplot(7, 7, i + 1)  # Adjust grid size to fit images\n",
    "        plt.imshow(all_images[idx].squeeze(), cmap=\"gray\")\n",
    "        plt.axis(\"off\")\n",
    "        plt.title(str(all_labels[idx].item()))\n",
    "\n",
    "    plt.tight_layout()\n",
    "    plt.show()"
   ]
  },
  {
   "cell_type": "code",
   "execution_count": 3,
   "metadata": {
    "execution": {
     "iopub.execute_input": "2024-12-11T18:01:49.289566Z",
     "iopub.status.busy": "2024-12-11T18:01:49.288755Z",
     "iopub.status.idle": "2024-12-11T18:01:49.298482Z",
     "shell.execute_reply": "2024-12-11T18:01:49.297570Z",
     "shell.execute_reply.started": "2024-12-11T18:01:49.289534Z"
    },
    "trusted": true
   },
   "outputs": [],
   "source": [
    "from tqdm import tqdm\n",
    "import torch.nn.functional as F\n",
    "\n",
    "def train(model, device, train_loader, optimizer, epoch):\n",
    "    model.train()\n",
    "    train_loss = 0\n",
    "    correct = 0\n",
    "    total = 0\n",
    "    pbar = tqdm(train_loader)\n",
    "\n",
    "    for batch_idx, (data, target) in enumerate(pbar):\n",
    "        data, target = data.to(device), target.to(device)\n",
    "        optimizer.zero_grad()\n",
    "        output = model(data)\n",
    "        \n",
    "        # Compute loss\n",
    "        loss = F.nll_loss(output, target)\n",
    "        train_loss += loss.item() * data.size(0)  # accumulate batch loss\n",
    "        \n",
    "        # Backward pass and optimizer step\n",
    "        loss.backward()\n",
    "        optimizer.step()\n",
    "        \n",
    "        # Compute accuracy\n",
    "        pred = output.argmax(dim=1, keepdim=True)\n",
    "        correct += pred.eq(target.view_as(pred)).sum().item()\n",
    "        total += target.size(0)\n",
    "\n",
    "        # Update progress bar\n",
    "        pbar.set_description(desc=f\"loss={loss.item():.4f} batch_id={batch_idx}\")\n",
    "\n",
    "    # Compute average loss and accuracy for the epoch\n",
    "    avg_loss = train_loss / len(train_loader.dataset)\n",
    "    accuracy = 100.0 * correct / total\n",
    "\n",
    "    print(f\"\\nEpoch {epoch}: Train set: Average loss: {avg_loss:.4f}, Accuracy: {correct}/{total} ({accuracy:.2f}%)\\n\")\n",
    "    return avg_loss, accuracy\n",
    "\n",
    "\n",
    "def test(model, device, test_loader):\n",
    "    model.eval()\n",
    "    test_loss = 0\n",
    "    correct = 0\n",
    "\n",
    "    with torch.no_grad():\n",
    "        for data, target in test_loader:\n",
    "            data, target = data.to(device), target.to(device)\n",
    "            output = model(data)\n",
    "            \n",
    "            # Compute loss\n",
    "            test_loss += F.nll_loss(output, target, reduction=\"sum\").item()\n",
    "            \n",
    "            # Compute accuracy\n",
    "            pred = output.argmax(dim=1, keepdim=True)\n",
    "            correct += pred.eq(target.view_as(pred)).sum().item()\n",
    "\n",
    "    # Compute average loss and accuracy for the test set\n",
    "    test_loss /= len(test_loader.dataset)\n",
    "    accuracy = 100.0 * correct / len(test_loader.dataset)\n",
    "\n",
    "    print(\n",
    "        \"\\nTest set: Average loss: {:.4f}, Accuracy: {}/{} ({:.2f}%)\\n\".format(\n",
    "            test_loss, correct, len(test_loader.dataset), accuracy\n",
    "        )\n",
    "    )\n",
    "    return test_loss, accuracy\n"
   ]
  },
  {
   "cell_type": "code",
   "execution_count": 4,
   "metadata": {
    "execution": {
     "iopub.execute_input": "2024-12-11T18:01:52.978438Z",
     "iopub.status.busy": "2024-12-11T18:01:52.977786Z",
     "iopub.status.idle": "2024-12-11T18:01:53.067285Z",
     "shell.execute_reply": "2024-12-11T18:01:53.066494Z",
     "shell.execute_reply.started": "2024-12-11T18:01:52.978405Z"
    },
    "trusted": true
   },
   "outputs": [
    {
     "name": "stdout",
     "output_type": "stream",
     "text": [
      "cuda\n"
     ]
    }
   ],
   "source": [
    "## Checking if CUDA is available\n",
    "use_cuda = torch.cuda.is_available()\n",
    "device = torch.device(\"cuda\" if use_cuda else \"cpu\")\n",
    "print(device)"
   ]
  },
  {
   "cell_type": "code",
   "execution_count": 5,
   "metadata": {
    "execution": {
     "iopub.execute_input": "2024-12-11T18:01:55.307082Z",
     "iopub.status.busy": "2024-12-11T18:01:55.306736Z",
     "iopub.status.idle": "2024-12-11T18:01:55.313438Z",
     "shell.execute_reply": "2024-12-11T18:01:55.312451Z",
     "shell.execute_reply.started": "2024-12-11T18:01:55.307045Z"
    },
    "trusted": true
   },
   "outputs": [
    {
     "data": {
      "text/plain": [
       "4"
      ]
     },
     "execution_count": 5,
     "metadata": {},
     "output_type": "execute_result"
    }
   ],
   "source": [
    "## Checking number of cores available\n",
    "import multiprocessing\n",
    "multiprocessing.cpu_count()"
   ]
  },
  {
   "cell_type": "markdown",
   "metadata": {},
   "source": [
    "### Loading MNIST Data"
   ]
  },
  {
   "cell_type": "code",
   "execution_count": 8,
   "metadata": {
    "execution": {
     "iopub.execute_input": "2024-12-11T11:30:45.524970Z",
     "iopub.status.busy": "2024-12-11T11:30:45.524589Z",
     "iopub.status.idle": "2024-12-11T11:30:45.633400Z",
     "shell.execute_reply": "2024-12-11T11:30:45.632495Z",
     "shell.execute_reply.started": "2024-12-11T11:30:45.524939Z"
    },
    "trusted": true
   },
   "outputs": [],
   "source": [
    "torch.manual_seed(42)\n",
    "if device == 'cuda':\n",
    "    torch.cuda.manual_seed(42)\n",
    "batch_size = 512\n",
    "kwargs = {'num_workers': 4, 'pin_memory': True} if use_cuda else {}\n",
    "train_loader = torch.utils.data.DataLoader(\n",
    "    datasets.MNIST('../data', train=True, download=True,\n",
    "                    transform=transforms.Compose([\n",
    "                        transforms.ToTensor(),\n",
    "                        transforms.Normalize((0.1307,), (0.3081,)),\n",
    "                    ])),\n",
    "    batch_size=batch_size, shuffle=True, **kwargs)\n",
    "test_loader = torch.utils.data.DataLoader(\n",
    "    datasets.MNIST('../data', train=False, transform=transforms.Compose([\n",
    "                        transforms.ToTensor(),\n",
    "                        transforms.Normalize((0.1307,), (0.3081,))\n",
    "                    ])),\n",
    "    batch_size=batch_size, shuffle=True, **kwargs)"
   ]
  },
  {
   "cell_type": "markdown",
   "metadata": {},
   "source": [
    "### Creating Base Model\n",
    "* Aim in this step is to create a based model first which adhere to the constraints of less than 8k parametes\n",
    "* No major data transformation is used except for normalization\n",
    "* We will closely monitor the train and test accuracy and loss to understand the model performance\n",
    "* In assignment 6 we observed one key point around LR schedueler. It significantly improves the training loss convergence. We will use the same here"
   ]
  },
  {
   "cell_type": "code",
   "execution_count": 9,
   "metadata": {
    "execution": {
     "iopub.execute_input": "2024-12-11T09:26:45.716513Z",
     "iopub.status.busy": "2024-12-11T09:26:45.715822Z",
     "iopub.status.idle": "2024-12-11T09:26:45.727948Z",
     "shell.execute_reply": "2024-12-11T09:26:45.726731Z",
     "shell.execute_reply.started": "2024-12-11T09:26:45.716474Z"
    },
    "trusted": true
   },
   "outputs": [],
   "source": [
    "class MiniCNN_1(nn.Module):\n",
    "    def __init__(self):\n",
    "        super(MiniCNN_1, self).__init__()\n",
    "        self.block_1 = nn.Sequential(\n",
    "            nn.Conv2d(\n",
    "                in_channels=1, out_channels=8, kernel_size=(3, 3), padding=1, bias=False\n",
    "            ),  # 28,1>28,8|RF:3,J:1\n",
    "            nn.ReLU(),\n",
    "            nn.Conv2d(\n",
    "                in_channels=8, out_channels=8, kernel_size=(3, 3), padding=1, bias=False\n",
    "            ),  # 28,8>28,8|RF:5,J:1\n",
    "            nn.ReLU(),\n",
    "            nn.Conv2d(\n",
    "                in_channels=8, out_channels=8, kernel_size=(3, 3), padding=1, bias=False\n",
    "            ),  # 28,8>28,8|RF:7,J:1\n",
    "            nn.ReLU(),\n",
    "        )\n",
    "        self.pool_1 = nn.MaxPool2d(2, 2)  # 28,8>14,8|RF:8,J:2\n",
    "        self.transition_1 = nn.Conv2d(\n",
    "            in_channels=8, out_channels=4, kernel_size=(1, 1), padding=0, bias=False\n",
    "        )  # 14,8>14,4|RF:8,J:2\n",
    "        self.block_2 = nn.Sequential(\n",
    "            nn.Conv2d(\n",
    "                in_channels=4, out_channels=8, kernel_size=(3, 3), padding=1, bias=False\n",
    "            ),  # 14,4>14,8|RF:12,J:2\n",
    "            nn.ReLU(),\n",
    "            nn.Conv2d(\n",
    "                in_channels=8,\n",
    "                out_channels=16,\n",
    "                kernel_size=(3, 3),\n",
    "                padding=1,\n",
    "                bias=False,\n",
    "            ),  # 14,8>14,16|RF:16,J:2\n",
    "            nn.ReLU(),\n",
    "            nn.Conv2d(\n",
    "                in_channels=16,\n",
    "                out_channels=16,\n",
    "                kernel_size=(3, 3),\n",
    "                padding=1,\n",
    "                bias=False,\n",
    "            ),  # 14,16>14,16|RF:20,J:2\n",
    "            nn.ReLU(),\n",
    "        )\n",
    "        self.pool_2 = nn.MaxPool2d(2, 2)  # 14,16>7,16|RF:21,J:4\n",
    "        self.transition_2 = nn.Conv2d(\n",
    "            in_channels=16, out_channels=4, kernel_size=(1, 1), padding=0, bias=False\n",
    "        )  # 14,16>7,4|RF:21,J:4\n",
    "        self.fc = nn.Linear(4 * 7 * 7, 10)  # 7,4>10\n",
    "\n",
    "    def forward(self, x):\n",
    "        x = self.block_1(x)\n",
    "        x = self.pool_1(x)\n",
    "        x = self.transition_1(x)\n",
    "        x = self.block_2(x)\n",
    "        x = self.pool_2(x)\n",
    "        x = self.transition_2(x)\n",
    "        x = x.view(-1, 4 * 7 * 7)\n",
    "        x = self.fc(x)\n",
    "        return F.log_softmax(x, dim=-1)"
   ]
  },
  {
   "cell_type": "code",
   "execution_count": 10,
   "metadata": {
    "execution": {
     "iopub.execute_input": "2024-12-11T09:26:47.581134Z",
     "iopub.status.busy": "2024-12-11T09:26:47.580381Z",
     "iopub.status.idle": "2024-12-11T09:26:48.394391Z",
     "shell.execute_reply": "2024-12-11T09:26:48.393333Z",
     "shell.execute_reply.started": "2024-12-11T09:26:47.581100Z"
    },
    "trusted": true
   },
   "outputs": [
    {
     "name": "stdout",
     "output_type": "stream",
     "text": [
      "----------------------------------------------------------------\n",
      "        Layer (type)               Output Shape         Param #\n",
      "================================================================\n",
      "            Conv2d-1            [-1, 8, 28, 28]              72\n",
      "              ReLU-2            [-1, 8, 28, 28]               0\n",
      "            Conv2d-3            [-1, 8, 28, 28]             576\n",
      "              ReLU-4            [-1, 8, 28, 28]               0\n",
      "            Conv2d-5            [-1, 8, 28, 28]             576\n",
      "              ReLU-6            [-1, 8, 28, 28]               0\n",
      "         MaxPool2d-7            [-1, 8, 14, 14]               0\n",
      "            Conv2d-8            [-1, 4, 14, 14]              32\n",
      "            Conv2d-9            [-1, 8, 14, 14]             288\n",
      "             ReLU-10            [-1, 8, 14, 14]               0\n",
      "           Conv2d-11           [-1, 16, 14, 14]           1,152\n",
      "             ReLU-12           [-1, 16, 14, 14]               0\n",
      "           Conv2d-13           [-1, 16, 14, 14]           2,304\n",
      "             ReLU-14           [-1, 16, 14, 14]               0\n",
      "        MaxPool2d-15             [-1, 16, 7, 7]               0\n",
      "           Conv2d-16              [-1, 4, 7, 7]              64\n",
      "           Linear-17                   [-1, 10]           1,970\n",
      "================================================================\n",
      "Total params: 7,034\n",
      "Trainable params: 7,034\n",
      "Non-trainable params: 0\n",
      "----------------------------------------------------------------\n",
      "Input size (MB): 0.00\n",
      "Forward/backward pass size (MB): 0.43\n",
      "Params size (MB): 0.03\n",
      "Estimated Total Size (MB): 0.46\n",
      "----------------------------------------------------------------\n"
     ]
    }
   ],
   "source": [
    "model = MiniCNN_1().to(device)\n",
    "summary(model, input_size=(1, 28, 28))"
   ]
  },
  {
   "cell_type": "markdown",
   "metadata": {},
   "source": [
    "#### Layerwise Details\n",
    "\n",
    "| Layer | Input Size | Output Size | Receptive Field | Jump In | Jump Out |\n",
    "|-------|------------|-------------|-----------------|----------|-----------|\n",
    "| Conv1 | 28x28x1 | 28x28x8 | 3 | 1 | 1 |\n",
    "| Conv2 | 28x28x8 | 28x28x8 | 5 | 1 | 1 |\n",
    "| Conv3 | 28x28x8 | 28x28x8 | 7 | 1 | 1 |\n",
    "| MaxPool1 | 28x28x8 | 14x14x8 | 8 | 1 | 2 |\n",
    "| Transition-Conv1 | 14x14x8 | 14x14x4 | 8 | 2 | 2 |\n",
    "| Conv4 | 14x14x4 | 14x14x8 | 12 | 2 | 2 |\n",
    "| Conv5 | 14x14x8 | 14x14x16 | 16 | 2 | 2 |\n",
    "| Conv6 | 14x14x16 | 14x14x16 | 20 | 2 | 2 |\n",
    "| MaxPool2 | 14x14x16 | 7x7x16 | 21 | 2 | 4 |\n",
    "| Transition-Conv1 | 7x7x16 | 7x7x4 | 21 | 4 | 4 |\n",
    "| FC | 7x7x4 | 10 | - | - | - |"
   ]
  },
  {
   "cell_type": "code",
   "execution_count": 15,
   "metadata": {
    "execution": {
     "iopub.execute_input": "2024-12-11T09:30:46.194993Z",
     "iopub.status.busy": "2024-12-11T09:30:46.194433Z",
     "iopub.status.idle": "2024-12-11T09:32:41.581481Z",
     "shell.execute_reply": "2024-12-11T09:32:41.580217Z",
     "shell.execute_reply.started": "2024-12-11T09:30:46.194936Z"
    },
    "trusted": true
   },
   "outputs": [
    {
     "name": "stdout",
     "output_type": "stream",
     "text": [
      "********* Epoch = 1 *********\n"
     ]
    },
    {
     "name": "stderr",
     "output_type": "stream",
     "text": [
      "loss=0.1029 batch_id=117: 100%|██████████| 118/118 [00:08<00:00, 14.32it/s]"
     ]
    },
    {
     "name": "stdout",
     "output_type": "stream",
     "text": [
      "\n",
      "Epoch 1: Train set: Average loss: 0.0364, Accuracy: 59276/60000 (98.79%)\n",
      "\n"
     ]
    },
    {
     "name": "stderr",
     "output_type": "stream",
     "text": [
      "\n"
     ]
    },
    {
     "name": "stdout",
     "output_type": "stream",
     "text": [
      "\n",
      "Test set: Average loss: 0.0617, Accuracy: 9811/10000 (98.11%)\n",
      "\n",
      "LR =  [0.01]\n",
      "********* Epoch = 2 *********\n"
     ]
    },
    {
     "name": "stderr",
     "output_type": "stream",
     "text": [
      "loss=0.0275 batch_id=117: 100%|██████████| 118/118 [00:06<00:00, 18.86it/s]\n"
     ]
    },
    {
     "name": "stdout",
     "output_type": "stream",
     "text": [
      "\n",
      "Epoch 2: Train set: Average loss: 0.0365, Accuracy: 59299/60000 (98.83%)\n",
      "\n",
      "\n",
      "Test set: Average loss: 0.0333, Accuracy: 9895/10000 (98.95%)\n",
      "\n",
      "LR =  [0.01]\n",
      "********* Epoch = 3 *********\n"
     ]
    },
    {
     "name": "stderr",
     "output_type": "stream",
     "text": [
      "loss=0.0506 batch_id=117: 100%|██████████| 118/118 [00:06<00:00, 18.36it/s]"
     ]
    },
    {
     "name": "stdout",
     "output_type": "stream",
     "text": [
      "\n",
      "Epoch 3: Train set: Average loss: 0.0289, Accuracy: 59443/60000 (99.07%)\n",
      "\n"
     ]
    },
    {
     "name": "stderr",
     "output_type": "stream",
     "text": [
      "\n"
     ]
    },
    {
     "name": "stdout",
     "output_type": "stream",
     "text": [
      "\n",
      "Test set: Average loss: 0.0440, Accuracy: 9859/10000 (98.59%)\n",
      "\n",
      "LR =  [0.01]\n",
      "********* Epoch = 4 *********\n"
     ]
    },
    {
     "name": "stderr",
     "output_type": "stream",
     "text": [
      "loss=0.0319 batch_id=117: 100%|██████████| 118/118 [00:06<00:00, 18.26it/s]"
     ]
    },
    {
     "name": "stdout",
     "output_type": "stream",
     "text": [
      "\n",
      "Epoch 4: Train set: Average loss: 0.0289, Accuracy: 59438/60000 (99.06%)\n",
      "\n"
     ]
    },
    {
     "name": "stderr",
     "output_type": "stream",
     "text": [
      "\n"
     ]
    },
    {
     "name": "stdout",
     "output_type": "stream",
     "text": [
      "\n",
      "Test set: Average loss: 0.0374, Accuracy: 9892/10000 (98.92%)\n",
      "\n",
      "LR =  [0.01]\n",
      "********* Epoch = 5 *********\n"
     ]
    },
    {
     "name": "stderr",
     "output_type": "stream",
     "text": [
      "loss=0.0723 batch_id=117: 100%|██████████| 118/118 [00:06<00:00, 17.80it/s]"
     ]
    },
    {
     "name": "stdout",
     "output_type": "stream",
     "text": [
      "\n",
      "Epoch 5: Train set: Average loss: 0.0279, Accuracy: 59471/60000 (99.12%)\n",
      "\n"
     ]
    },
    {
     "name": "stderr",
     "output_type": "stream",
     "text": [
      "\n"
     ]
    },
    {
     "name": "stdout",
     "output_type": "stream",
     "text": [
      "\n",
      "Test set: Average loss: 0.0369, Accuracy: 9885/10000 (98.85%)\n",
      "\n",
      "LR =  [0.001]\n",
      "********* Epoch = 6 *********\n"
     ]
    },
    {
     "name": "stderr",
     "output_type": "stream",
     "text": [
      "loss=0.0115 batch_id=117: 100%|██████████| 118/118 [00:06<00:00, 18.67it/s]"
     ]
    },
    {
     "name": "stdout",
     "output_type": "stream",
     "text": [
      "\n",
      "Epoch 6: Train set: Average loss: 0.0139, Accuracy: 59726/60000 (99.54%)\n",
      "\n"
     ]
    },
    {
     "name": "stderr",
     "output_type": "stream",
     "text": [
      "\n"
     ]
    },
    {
     "name": "stdout",
     "output_type": "stream",
     "text": [
      "\n",
      "Test set: Average loss: 0.0297, Accuracy: 9915/10000 (99.15%)\n",
      "\n",
      "LR =  [0.001]\n",
      "********* Epoch = 7 *********\n"
     ]
    },
    {
     "name": "stderr",
     "output_type": "stream",
     "text": [
      "loss=0.0172 batch_id=117: 100%|██████████| 118/118 [00:06<00:00, 18.39it/s]"
     ]
    },
    {
     "name": "stdout",
     "output_type": "stream",
     "text": [
      "\n",
      "Epoch 7: Train set: Average loss: 0.0089, Accuracy: 59842/60000 (99.74%)\n",
      "\n"
     ]
    },
    {
     "name": "stderr",
     "output_type": "stream",
     "text": [
      "\n"
     ]
    },
    {
     "name": "stdout",
     "output_type": "stream",
     "text": [
      "\n",
      "Test set: Average loss: 0.0301, Accuracy: 9913/10000 (99.13%)\n",
      "\n",
      "LR =  [0.001]\n",
      "********* Epoch = 8 *********\n"
     ]
    },
    {
     "name": "stderr",
     "output_type": "stream",
     "text": [
      "loss=0.0001 batch_id=117: 100%|██████████| 118/118 [00:06<00:00, 18.30it/s]"
     ]
    },
    {
     "name": "stdout",
     "output_type": "stream",
     "text": [
      "\n",
      "Epoch 8: Train set: Average loss: 0.0073, Accuracy: 59871/60000 (99.78%)\n",
      "\n"
     ]
    },
    {
     "name": "stderr",
     "output_type": "stream",
     "text": [
      "\n"
     ]
    },
    {
     "name": "stdout",
     "output_type": "stream",
     "text": [
      "\n",
      "Test set: Average loss: 0.0316, Accuracy: 9915/10000 (99.15%)\n",
      "\n",
      "LR =  [0.001]\n",
      "********* Epoch = 9 *********\n"
     ]
    },
    {
     "name": "stderr",
     "output_type": "stream",
     "text": [
      "loss=0.0006 batch_id=117: 100%|██████████| 118/118 [00:06<00:00, 18.43it/s]"
     ]
    },
    {
     "name": "stdout",
     "output_type": "stream",
     "text": [
      "\n",
      "Epoch 9: Train set: Average loss: 0.0061, Accuracy: 59894/60000 (99.82%)\n",
      "\n"
     ]
    },
    {
     "name": "stderr",
     "output_type": "stream",
     "text": [
      "\n"
     ]
    },
    {
     "name": "stdout",
     "output_type": "stream",
     "text": [
      "\n",
      "Test set: Average loss: 0.0326, Accuracy: 9908/10000 (99.08%)\n",
      "\n",
      "LR =  [0.0001]\n",
      "********* Epoch = 10 *********\n"
     ]
    },
    {
     "name": "stderr",
     "output_type": "stream",
     "text": [
      "loss=0.0042 batch_id=117: 100%|██████████| 118/118 [00:06<00:00, 17.34it/s]"
     ]
    },
    {
     "name": "stdout",
     "output_type": "stream",
     "text": [
      "\n",
      "Epoch 10: Train set: Average loss: 0.0046, Accuracy: 59938/60000 (99.90%)\n",
      "\n"
     ]
    },
    {
     "name": "stderr",
     "output_type": "stream",
     "text": [
      "\n"
     ]
    },
    {
     "name": "stdout",
     "output_type": "stream",
     "text": [
      "\n",
      "Test set: Average loss: 0.0326, Accuracy: 9914/10000 (99.14%)\n",
      "\n",
      "LR =  [0.0001]\n",
      "********* Epoch = 11 *********\n"
     ]
    },
    {
     "name": "stderr",
     "output_type": "stream",
     "text": [
      "loss=0.0216 batch_id=117: 100%|██████████| 118/118 [00:06<00:00, 18.20it/s]"
     ]
    },
    {
     "name": "stdout",
     "output_type": "stream",
     "text": [
      "\n",
      "Epoch 11: Train set: Average loss: 0.0044, Accuracy: 59942/60000 (99.90%)\n",
      "\n"
     ]
    },
    {
     "name": "stderr",
     "output_type": "stream",
     "text": [
      "\n"
     ]
    },
    {
     "name": "stdout",
     "output_type": "stream",
     "text": [
      "\n",
      "Test set: Average loss: 0.0328, Accuracy: 9917/10000 (99.17%)\n",
      "\n",
      "LR =  [0.0001]\n",
      "********* Epoch = 12 *********\n"
     ]
    },
    {
     "name": "stderr",
     "output_type": "stream",
     "text": [
      "loss=0.0047 batch_id=117: 100%|██████████| 118/118 [00:06<00:00, 18.33it/s]"
     ]
    },
    {
     "name": "stdout",
     "output_type": "stream",
     "text": [
      "\n",
      "Epoch 12: Train set: Average loss: 0.0043, Accuracy: 59940/60000 (99.90%)\n",
      "\n"
     ]
    },
    {
     "name": "stderr",
     "output_type": "stream",
     "text": [
      "\n"
     ]
    },
    {
     "name": "stdout",
     "output_type": "stream",
     "text": [
      "\n",
      "Test set: Average loss: 0.0330, Accuracy: 9917/10000 (99.17%)\n",
      "\n",
      "LR =  [0.0001]\n",
      "********* Epoch = 13 *********\n"
     ]
    },
    {
     "name": "stderr",
     "output_type": "stream",
     "text": [
      "loss=0.0001 batch_id=117: 100%|██████████| 118/118 [00:06<00:00, 18.44it/s]"
     ]
    },
    {
     "name": "stdout",
     "output_type": "stream",
     "text": [
      "\n",
      "Epoch 13: Train set: Average loss: 0.0042, Accuracy: 59941/60000 (99.90%)\n",
      "\n"
     ]
    },
    {
     "name": "stderr",
     "output_type": "stream",
     "text": [
      "\n"
     ]
    },
    {
     "name": "stdout",
     "output_type": "stream",
     "text": [
      "\n",
      "Test set: Average loss: 0.0335, Accuracy: 9916/10000 (99.16%)\n",
      "\n",
      "LR =  [0.0001]\n",
      "********* Epoch = 14 *********\n"
     ]
    },
    {
     "name": "stderr",
     "output_type": "stream",
     "text": [
      "loss=0.0000 batch_id=117: 100%|██████████| 118/118 [00:06<00:00, 17.29it/s]"
     ]
    },
    {
     "name": "stdout",
     "output_type": "stream",
     "text": [
      "\n",
      "Epoch 14: Train set: Average loss: 0.0041, Accuracy: 59948/60000 (99.91%)\n",
      "\n"
     ]
    },
    {
     "name": "stderr",
     "output_type": "stream",
     "text": [
      "\n"
     ]
    },
    {
     "name": "stdout",
     "output_type": "stream",
     "text": [
      "\n",
      "Test set: Average loss: 0.0337, Accuracy: 9916/10000 (99.16%)\n",
      "\n",
      "LR =  [1e-05]\n",
      "********* Epoch = 15 *********\n"
     ]
    },
    {
     "name": "stderr",
     "output_type": "stream",
     "text": [
      "loss=0.0006 batch_id=117: 100%|██████████| 118/118 [00:06<00:00, 18.87it/s]"
     ]
    },
    {
     "name": "stdout",
     "output_type": "stream",
     "text": [
      "\n",
      "Epoch 15: Train set: Average loss: 0.0039, Accuracy: 59949/60000 (99.92%)\n",
      "\n"
     ]
    },
    {
     "name": "stderr",
     "output_type": "stream",
     "text": [
      "\n"
     ]
    },
    {
     "name": "stdout",
     "output_type": "stream",
     "text": [
      "\n",
      "Test set: Average loss: 0.0338, Accuracy: 9916/10000 (99.16%)\n",
      "\n",
      "LR =  [1e-05]\n"
     ]
    }
   ],
   "source": [
    "optimizer = optim.Adam(model.parameters(), lr=0.01)\n",
    "scheduler = ReduceLROnPlateau(\n",
    "    optimizer,\n",
    "    mode=\"max\",\n",
    "    factor=0.1,\n",
    "    patience=2,\n",
    "    verbose=True,\n",
    "    min_lr=1e-6,\n",
    ")\n",
    "\n",
    "for epoch in range(1, 16):\n",
    "    print(f\"********* Epoch = {epoch} *********\")\n",
    "    train(model, device, train_loader, optimizer, epoch)\n",
    "    _, acc = test(model, device, test_loader)\n",
    "    scheduler.step(acc)\n",
    "    print(\"LR = \", scheduler.get_last_lr())"
   ]
  },
  {
   "cell_type": "markdown",
   "metadata": {},
   "source": [
    "#### Observations\n",
    "\n",
    "* Max Train accuracy: 99.92%\n",
    "* Max Test accuracy: 99.17%\n",
    "* Model has reached max accuracy of 99.92% on training data. It shows that model is able to learn the training data very well\n",
    "* There is a significant gap between train and test accuracy. It's a severe case of over-fitting"
   ]
  },
  {
   "cell_type": "markdown",
   "metadata": {},
   "source": [
    "## Regularizing model to decrease train & test accuracy gap\n",
    "\n",
    "* We will try to address the overfitting by introducing dropouts\n",
    "* Main focus is to bring train and test accuracy close.\n",
    "* We will continue to adhere to the less 8k param constraint"
   ]
  },
  {
   "cell_type": "code",
   "execution_count": 34,
   "metadata": {
    "execution": {
     "iopub.execute_input": "2024-12-11T10:31:17.313386Z",
     "iopub.status.busy": "2024-12-11T10:31:17.312985Z",
     "iopub.status.idle": "2024-12-11T10:31:17.324224Z",
     "shell.execute_reply": "2024-12-11T10:31:17.323390Z",
     "shell.execute_reply.started": "2024-12-11T10:31:17.313355Z"
    },
    "trusted": true
   },
   "outputs": [],
   "source": [
    "class MiniCNN_2(nn.Module):\n",
    "    def __init__(self):\n",
    "        super(MiniCNN_2, self).__init__()\n",
    "        self.block_1 = nn.Sequential(\n",
    "            nn.Conv2d(in_channels=1, out_channels=8, kernel_size=(3, 3), padding=1, bias=False), # 28,1>28,8|RF:3,J:1 \n",
    "            nn.ReLU(),\n",
    "            nn.Conv2d(in_channels=8, out_channels=8, kernel_size=(3, 3), padding=1, bias=False), # 28,8>28,8|RF:5,J:1 \n",
    "            nn.ReLU(),\n",
    "            nn.Conv2d(in_channels=8, out_channels=8, kernel_size=(3, 3), padding=1, bias=False), # 28,8>28,8|RF:7,J:1\n",
    "            nn.ReLU(),            \n",
    "            nn.Dropout(0.2)\n",
    "        )\n",
    "        self.pool_1 = nn.MaxPool2d(2, 2) # 28,8>14,8|RF 8,J:2\n",
    "        self.transition_1 = nn.Conv2d(in_channels=8, out_channels=4, kernel_size=(1, 1), padding=0, bias=False) # 14,8>14,4|RF:8,J:2\n",
    "        self.block_2 = nn.Sequential(\n",
    "            nn.Conv2d(in_channels=4, out_channels=8, kernel_size=(3, 3), padding=1, bias=False),# 14,8>14,8|RF:12,J:2\n",
    "            nn.ReLU(),\n",
    "            nn.Conv2d(in_channels=8, out_channels=16, kernel_size=(3, 3), padding=1, bias=False),# 14,8>14,8|RF:16,J:2\n",
    "            nn.ReLU(),\n",
    "            nn.Conv2d(in_channels=16, out_channels=16, kernel_size=(3, 3), padding=1, bias=False),# 14,8>14,16|RF:20,J:2\n",
    "            nn.ReLU(),            \n",
    "            nn.Dropout(0.2)\n",
    "        )\n",
    "        self.pool_2 = nn.MaxPool2d(2, 2)# 14,16>7,16|RF:21,J:4 \n",
    "        self.transition_2 = nn.Conv2d(in_channels=16, out_channels=4, kernel_size=(1, 1), padding=0, bias=False)# 14,32>7,32|RF:25,J:4\n",
    "        self.fc = nn.Linear(4 * 7 * 7, 10)\n",
    "\n",
    "    def forward(self, x):\n",
    "        x = self.block_1(x)\n",
    "        x = self.pool_1(x)\n",
    "        x = self.transition_1(x)\n",
    "        x = self.block_2(x)\n",
    "        x = self.pool_2(x)        \n",
    "        x = self.transition_2(x)\n",
    "        x = x.view(-1, 4 * 7 * 7)\n",
    "        x = self.fc(x)\n",
    "        return F.log_softmax(x, dim=-1)\n"
   ]
  },
  {
   "cell_type": "code",
   "execution_count": 35,
   "metadata": {
    "execution": {
     "iopub.execute_input": "2024-12-11T10:31:18.913572Z",
     "iopub.status.busy": "2024-12-11T10:31:18.912830Z",
     "iopub.status.idle": "2024-12-11T10:31:18.925430Z",
     "shell.execute_reply": "2024-12-11T10:31:18.924557Z",
     "shell.execute_reply.started": "2024-12-11T10:31:18.913536Z"
    },
    "trusted": true
   },
   "outputs": [
    {
     "name": "stdout",
     "output_type": "stream",
     "text": [
      "----------------------------------------------------------------\n",
      "        Layer (type)               Output Shape         Param #\n",
      "================================================================\n",
      "            Conv2d-1            [-1, 8, 28, 28]              72\n",
      "              ReLU-2            [-1, 8, 28, 28]               0\n",
      "            Conv2d-3            [-1, 8, 28, 28]             576\n",
      "              ReLU-4            [-1, 8, 28, 28]               0\n",
      "            Conv2d-5            [-1, 8, 28, 28]             576\n",
      "              ReLU-6            [-1, 8, 28, 28]               0\n",
      "           Dropout-7            [-1, 8, 28, 28]               0\n",
      "         MaxPool2d-8            [-1, 8, 14, 14]               0\n",
      "            Conv2d-9            [-1, 4, 14, 14]              32\n",
      "           Conv2d-10            [-1, 8, 14, 14]             288\n",
      "             ReLU-11            [-1, 8, 14, 14]               0\n",
      "           Conv2d-12           [-1, 16, 14, 14]           1,152\n",
      "             ReLU-13           [-1, 16, 14, 14]               0\n",
      "           Conv2d-14           [-1, 16, 14, 14]           2,304\n",
      "             ReLU-15           [-1, 16, 14, 14]               0\n",
      "          Dropout-16           [-1, 16, 14, 14]               0\n",
      "        MaxPool2d-17             [-1, 16, 7, 7]               0\n",
      "           Conv2d-18              [-1, 4, 7, 7]              64\n",
      "           Linear-19                   [-1, 10]           1,970\n",
      "================================================================\n",
      "Total params: 7,034\n",
      "Trainable params: 7,034\n",
      "Non-trainable params: 0\n",
      "----------------------------------------------------------------\n",
      "Input size (MB): 0.00\n",
      "Forward/backward pass size (MB): 0.50\n",
      "Params size (MB): 0.03\n",
      "Estimated Total Size (MB): 0.53\n",
      "----------------------------------------------------------------\n"
     ]
    }
   ],
   "source": [
    "model = MiniCNN_2().to(device)\n",
    "summary(model, input_size=(1, 28, 28))"
   ]
  },
  {
   "cell_type": "markdown",
   "metadata": {},
   "source": [
    "#### Layerwise Details\n",
    "\n",
    "| Layer | Input Size | Output Size | Receptive Field | Jump In | Jump Out |\n",
    "|-------|------------|-------------|-----------------|----------|-----------|\n",
    "| Conv1 | 28x28x1 | 28x28x8 | 3 | 1 | 1 |\n",
    "| Conv2 | 28x28x8 | 28x28x8 | 5 | 1 | 1 |\n",
    "| Conv3 | 28x28x8 | 28x28x8 | 7 | 1 | 1 |\n",
    "| MaxPool1 | 28x28x8 | 14x14x8 | 8 | 1 | 2 |\n",
    "| Transition-Conv1 | 14x14x8 | 14x14x4 | 8 | 2 | 2 |\n",
    "| Conv4 | 14x14x4 | 14x14x8 | 12 | 2 | 2 |\n",
    "| Conv5 | 14x14x8 | 14x14x16 | 16 | 2 | 2 |\n",
    "| Conv6 | 14x14x16 | 14x14x16 | 20 | 2 | 2 |\n",
    "| MaxPool2 | 14x14x16 | 7x7x16 | 21 | 2 | 4 |\n",
    "| Transition-Conv1 | 7x7x16 | 7x7x4 | 21 | 4 | 4 |\n",
    "| FC | 7x7x4 | 10 | - | - | - |"
   ]
  },
  {
   "cell_type": "code",
   "execution_count": 36,
   "metadata": {
    "execution": {
     "iopub.execute_input": "2024-12-11T10:31:43.025856Z",
     "iopub.status.busy": "2024-12-11T10:31:43.025511Z",
     "iopub.status.idle": "2024-12-11T10:33:23.537377Z",
     "shell.execute_reply": "2024-12-11T10:33:23.536264Z",
     "shell.execute_reply.started": "2024-12-11T10:31:43.025823Z"
    },
    "trusted": true
   },
   "outputs": [
    {
     "name": "stdout",
     "output_type": "stream",
     "text": [
      "********* Epoch = 1 *********\n"
     ]
    },
    {
     "name": "stderr",
     "output_type": "stream",
     "text": [
      "loss=0.0899 batch_id=117: 100%|██████████| 118/118 [00:06<00:00, 19.21it/s]"
     ]
    },
    {
     "name": "stdout",
     "output_type": "stream",
     "text": [
      "\n",
      "Epoch 1: Train set: Average loss: 0.4184, Accuracy: 52029/60000 (86.72%)\n",
      "\n"
     ]
    },
    {
     "name": "stderr",
     "output_type": "stream",
     "text": [
      "\n"
     ]
    },
    {
     "name": "stdout",
     "output_type": "stream",
     "text": [
      "\n",
      "Test set: Average loss: 0.1247, Accuracy: 9704/10000 (97.04%)\n",
      "\n",
      "LR =  [0.01]\n",
      "********* Epoch = 2 *********\n"
     ]
    },
    {
     "name": "stderr",
     "output_type": "stream",
     "text": [
      "loss=0.0865 batch_id=117: 100%|██████████| 118/118 [00:05<00:00, 20.85it/s]"
     ]
    },
    {
     "name": "stdout",
     "output_type": "stream",
     "text": [
      "\n",
      "Epoch 2: Train set: Average loss: 0.0957, Accuracy: 58243/60000 (97.07%)\n",
      "\n"
     ]
    },
    {
     "name": "stderr",
     "output_type": "stream",
     "text": [
      "\n"
     ]
    },
    {
     "name": "stdout",
     "output_type": "stream",
     "text": [
      "\n",
      "Test set: Average loss: 0.0860, Accuracy: 9771/10000 (97.71%)\n",
      "\n",
      "LR =  [0.01]\n",
      "********* Epoch = 3 *********\n"
     ]
    },
    {
     "name": "stderr",
     "output_type": "stream",
     "text": [
      "loss=0.0741 batch_id=117: 100%|██████████| 118/118 [00:05<00:00, 21.03it/s]"
     ]
    },
    {
     "name": "stdout",
     "output_type": "stream",
     "text": [
      "\n",
      "Epoch 3: Train set: Average loss: 0.0759, Accuracy: 58599/60000 (97.67%)\n",
      "\n"
     ]
    },
    {
     "name": "stderr",
     "output_type": "stream",
     "text": [
      "\n"
     ]
    },
    {
     "name": "stdout",
     "output_type": "stream",
     "text": [
      "\n",
      "Test set: Average loss: 0.0689, Accuracy: 9827/10000 (98.27%)\n",
      "\n",
      "LR =  [0.01]\n",
      "********* Epoch = 4 *********\n"
     ]
    },
    {
     "name": "stderr",
     "output_type": "stream",
     "text": [
      "loss=0.0530 batch_id=117: 100%|██████████| 118/118 [00:05<00:00, 20.96it/s]"
     ]
    },
    {
     "name": "stdout",
     "output_type": "stream",
     "text": [
      "\n",
      "Epoch 4: Train set: Average loss: 0.0622, Accuracy: 58864/60000 (98.11%)\n",
      "\n"
     ]
    },
    {
     "name": "stderr",
     "output_type": "stream",
     "text": [
      "\n"
     ]
    },
    {
     "name": "stdout",
     "output_type": "stream",
     "text": [
      "\n",
      "Test set: Average loss: 0.0691, Accuracy: 9825/10000 (98.25%)\n",
      "\n",
      "LR =  [0.01]\n",
      "********* Epoch = 5 *********\n"
     ]
    },
    {
     "name": "stderr",
     "output_type": "stream",
     "text": [
      "loss=0.1225 batch_id=117: 100%|██████████| 118/118 [00:05<00:00, 20.95it/s]"
     ]
    },
    {
     "name": "stdout",
     "output_type": "stream",
     "text": [
      "\n",
      "Epoch 5: Train set: Average loss: 0.0593, Accuracy: 58901/60000 (98.17%)\n",
      "\n"
     ]
    },
    {
     "name": "stderr",
     "output_type": "stream",
     "text": [
      "\n"
     ]
    },
    {
     "name": "stdout",
     "output_type": "stream",
     "text": [
      "\n",
      "Test set: Average loss: 0.0624, Accuracy: 9851/10000 (98.51%)\n",
      "\n",
      "LR =  [0.01]\n",
      "********* Epoch = 6 *********\n"
     ]
    },
    {
     "name": "stderr",
     "output_type": "stream",
     "text": [
      "loss=0.1638 batch_id=117: 100%|██████████| 118/118 [00:06<00:00, 19.54it/s]"
     ]
    },
    {
     "name": "stdout",
     "output_type": "stream",
     "text": [
      "\n",
      "Epoch 6: Train set: Average loss: 0.0525, Accuracy: 59017/60000 (98.36%)\n",
      "\n"
     ]
    },
    {
     "name": "stderr",
     "output_type": "stream",
     "text": [
      "\n"
     ]
    },
    {
     "name": "stdout",
     "output_type": "stream",
     "text": [
      "\n",
      "Test set: Average loss: 0.0440, Accuracy: 9876/10000 (98.76%)\n",
      "\n",
      "LR =  [0.01]\n",
      "********* Epoch = 7 *********\n"
     ]
    },
    {
     "name": "stderr",
     "output_type": "stream",
     "text": [
      "loss=0.0849 batch_id=117: 100%|██████████| 118/118 [00:05<00:00, 21.05it/s]"
     ]
    },
    {
     "name": "stdout",
     "output_type": "stream",
     "text": [
      "\n",
      "Epoch 7: Train set: Average loss: 0.0470, Accuracy: 59126/60000 (98.54%)\n",
      "\n"
     ]
    },
    {
     "name": "stderr",
     "output_type": "stream",
     "text": [
      "\n"
     ]
    },
    {
     "name": "stdout",
     "output_type": "stream",
     "text": [
      "\n",
      "Test set: Average loss: 0.0574, Accuracy: 9858/10000 (98.58%)\n",
      "\n",
      "LR =  [0.01]\n",
      "********* Epoch = 8 *********\n"
     ]
    },
    {
     "name": "stderr",
     "output_type": "stream",
     "text": [
      "loss=0.0130 batch_id=117: 100%|██████████| 118/118 [00:05<00:00, 20.96it/s]"
     ]
    },
    {
     "name": "stdout",
     "output_type": "stream",
     "text": [
      "\n",
      "Epoch 8: Train set: Average loss: 0.0454, Accuracy: 59153/60000 (98.59%)\n",
      "\n"
     ]
    },
    {
     "name": "stderr",
     "output_type": "stream",
     "text": [
      "\n"
     ]
    },
    {
     "name": "stdout",
     "output_type": "stream",
     "text": [
      "\n",
      "Test set: Average loss: 0.0346, Accuracy: 9884/10000 (98.84%)\n",
      "\n",
      "LR =  [0.01]\n",
      "********* Epoch = 9 *********\n"
     ]
    },
    {
     "name": "stderr",
     "output_type": "stream",
     "text": [
      "loss=0.0264 batch_id=117: 100%|██████████| 118/118 [00:05<00:00, 21.07it/s]"
     ]
    },
    {
     "name": "stdout",
     "output_type": "stream",
     "text": [
      "\n",
      "Epoch 9: Train set: Average loss: 0.0399, Accuracy: 59242/60000 (98.74%)\n",
      "\n"
     ]
    },
    {
     "name": "stderr",
     "output_type": "stream",
     "text": [
      "\n"
     ]
    },
    {
     "name": "stdout",
     "output_type": "stream",
     "text": [
      "\n",
      "Test set: Average loss: 0.0413, Accuracy: 9882/10000 (98.82%)\n",
      "\n",
      "LR =  [0.01]\n",
      "********* Epoch = 10 *********\n"
     ]
    },
    {
     "name": "stderr",
     "output_type": "stream",
     "text": [
      "loss=0.0636 batch_id=117: 100%|██████████| 118/118 [00:05<00:00, 20.90it/s]"
     ]
    },
    {
     "name": "stdout",
     "output_type": "stream",
     "text": [
      "\n",
      "Epoch 10: Train set: Average loss: 0.0413, Accuracy: 59229/60000 (98.72%)\n",
      "\n"
     ]
    },
    {
     "name": "stderr",
     "output_type": "stream",
     "text": [
      "\n"
     ]
    },
    {
     "name": "stdout",
     "output_type": "stream",
     "text": [
      "\n",
      "Test set: Average loss: 0.0435, Accuracy: 9880/10000 (98.80%)\n",
      "\n",
      "LR =  [0.01]\n",
      "********* Epoch = 11 *********\n"
     ]
    },
    {
     "name": "stderr",
     "output_type": "stream",
     "text": [
      "loss=0.0528 batch_id=117: 100%|██████████| 118/118 [00:06<00:00, 19.37it/s]"
     ]
    },
    {
     "name": "stdout",
     "output_type": "stream",
     "text": [
      "\n",
      "Epoch 11: Train set: Average loss: 0.0396, Accuracy: 59256/60000 (98.76%)\n",
      "\n"
     ]
    },
    {
     "name": "stderr",
     "output_type": "stream",
     "text": [
      "\n"
     ]
    },
    {
     "name": "stdout",
     "output_type": "stream",
     "text": [
      "\n",
      "Test set: Average loss: 0.0364, Accuracy: 9880/10000 (98.80%)\n",
      "\n",
      "LR =  [0.001]\n",
      "********* Epoch = 12 *********\n"
     ]
    },
    {
     "name": "stderr",
     "output_type": "stream",
     "text": [
      "loss=0.0424 batch_id=117: 100%|██████████| 118/118 [00:05<00:00, 21.27it/s]"
     ]
    },
    {
     "name": "stdout",
     "output_type": "stream",
     "text": [
      "\n",
      "Epoch 12: Train set: Average loss: 0.0241, Accuracy: 59532/60000 (99.22%)\n",
      "\n"
     ]
    },
    {
     "name": "stderr",
     "output_type": "stream",
     "text": [
      "\n"
     ]
    },
    {
     "name": "stdout",
     "output_type": "stream",
     "text": [
      "\n",
      "Test set: Average loss: 0.0255, Accuracy: 9921/10000 (99.21%)\n",
      "\n",
      "LR =  [0.001]\n",
      "********* Epoch = 13 *********\n"
     ]
    },
    {
     "name": "stderr",
     "output_type": "stream",
     "text": [
      "loss=0.0647 batch_id=117: 100%|██████████| 118/118 [00:05<00:00, 20.96it/s]"
     ]
    },
    {
     "name": "stdout",
     "output_type": "stream",
     "text": [
      "\n",
      "Epoch 13: Train set: Average loss: 0.0209, Accuracy: 59564/60000 (99.27%)\n",
      "\n"
     ]
    },
    {
     "name": "stderr",
     "output_type": "stream",
     "text": [
      "\n"
     ]
    },
    {
     "name": "stdout",
     "output_type": "stream",
     "text": [
      "\n",
      "Test set: Average loss: 0.0270, Accuracy: 9912/10000 (99.12%)\n",
      "\n",
      "LR =  [0.001]\n",
      "********* Epoch = 14 *********\n"
     ]
    },
    {
     "name": "stderr",
     "output_type": "stream",
     "text": [
      "loss=0.0232 batch_id=117: 100%|██████████| 118/118 [00:05<00:00, 20.93it/s]"
     ]
    },
    {
     "name": "stdout",
     "output_type": "stream",
     "text": [
      "\n",
      "Epoch 14: Train set: Average loss: 0.0194, Accuracy: 59633/60000 (99.39%)\n",
      "\n"
     ]
    },
    {
     "name": "stderr",
     "output_type": "stream",
     "text": [
      "\n"
     ]
    },
    {
     "name": "stdout",
     "output_type": "stream",
     "text": [
      "\n",
      "Test set: Average loss: 0.0242, Accuracy: 9917/10000 (99.17%)\n",
      "\n",
      "LR =  [0.001]\n",
      "********* Epoch = 15 *********\n"
     ]
    },
    {
     "name": "stderr",
     "output_type": "stream",
     "text": [
      "loss=0.0102 batch_id=117: 100%|██████████| 118/118 [00:05<00:00, 21.07it/s]"
     ]
    },
    {
     "name": "stdout",
     "output_type": "stream",
     "text": [
      "\n",
      "Epoch 15: Train set: Average loss: 0.0188, Accuracy: 59656/60000 (99.43%)\n",
      "\n"
     ]
    },
    {
     "name": "stderr",
     "output_type": "stream",
     "text": [
      "\n"
     ]
    },
    {
     "name": "stdout",
     "output_type": "stream",
     "text": [
      "\n",
      "Test set: Average loss: 0.0244, Accuracy: 9923/10000 (99.23%)\n",
      "\n",
      "LR =  [0.001]\n"
     ]
    }
   ],
   "source": [
    "optimizer = optim.Adam(model.parameters(), lr=0.01)\n",
    "scheduler = ReduceLROnPlateau(\n",
    "    optimizer,\n",
    "    mode=\"max\",\n",
    "    factor=0.1,\n",
    "    patience=2,\n",
    "    verbose=True,\n",
    "    min_lr=1e-6,\n",
    ")\n",
    "\n",
    "for epoch in range(1, 16):\n",
    "    print(f\"********* Epoch = {epoch} *********\")\n",
    "    train(model, device, train_loader, optimizer, epoch)\n",
    "    _, acc = test(model, device, test_loader)\n",
    "    scheduler.step(acc)\n",
    "    print(\"LR = \", scheduler.get_last_lr())"
   ]
  },
  {
   "cell_type": "markdown",
   "metadata": {},
   "source": [
    "#### Observations\n",
    "\n",
    "* Max Train accuracy: 99.43%\n",
    "* Max Test accuracy: 99.23%\n",
    "* Dropouts have decreased the gap between train and test accuracy significantly\n",
    "* Our Test accuracy has also improved in comparison to last model but our training accuracy has dropped. "
   ]
  },
  {
   "cell_type": "markdown",
   "metadata": {},
   "source": [
    "## Reviewing Test Samples\n",
    "We will review test samples to see how we can increase Test accuracy"
   ]
  },
  {
   "cell_type": "code",
   "execution_count": 10,
   "metadata": {
    "execution": {
     "iopub.execute_input": "2024-12-11T11:34:25.542110Z",
     "iopub.status.busy": "2024-12-11T11:34:25.541767Z",
     "iopub.status.idle": "2024-12-11T11:34:29.154392Z",
     "shell.execute_reply": "2024-12-11T11:34:29.153437Z",
     "shell.execute_reply.started": "2024-12-11T11:34:25.542080Z"
    },
    "trusted": true
   },
   "outputs": [
    {
     "data": {
      "image/png": "[encoded data removed]",
      "text/plain": [
       "<Figure size 1000x1000 with 49 Axes>"
      ]
     },
     "metadata": {},
     "output_type": "display_data"
    }
   ],
   "source": [
    "plot_random_mnist_images(test_loader, num_images=49)"
   ]
  },
  {
   "cell_type": "markdown",
   "metadata": {},
   "source": [
    "### Model for improving Test accuracy\n",
    "* Adding following transformations based on Test sample analysis:\n",
    "  * Random Rotation: As there are some digits which are slightly rotated\n",
    "  * Random Erasing: As there are some digits which are incomplete\n",
    "* Will introduce batch normalization to get more stable model\n",
    "* We will also increase number of parameters - specially in the second Convolution block"
   ]
  },
  {
   "cell_type": "code",
   "execution_count": 7,
   "metadata": {
    "execution": {
     "iopub.execute_input": "2024-12-11T18:02:35.115019Z",
     "iopub.status.busy": "2024-12-11T18:02:35.114167Z",
     "iopub.status.idle": "2024-12-11T18:02:35.220136Z",
     "shell.execute_reply": "2024-12-11T18:02:35.219391Z",
     "shell.execute_reply.started": "2024-12-11T18:02:35.114986Z"
    },
    "trusted": true
   },
   "outputs": [],
   "source": [
    "torch.manual_seed(42)\n",
    "if device == 'cuda':\n",
    "    torch.cuda.manual_seed(42)\n",
    "batch_size = 1024\n",
    "kwargs = {'num_workers': 8, 'pin_memory': True} if use_cuda else {}\n",
    "\n",
    "train_loader = torch.utils.data.DataLoader(\n",
    "    datasets.MNIST('../data', train=True, download=True,\n",
    "                    transform=transforms.Compose([\n",
    "                        transforms.ToTensor(),\n",
    "                        transforms.Normalize((0.1307,), (0.3081,)),\n",
    "                        transforms.RandomAffine(\n",
    "                            degrees=15,  # Random rotation up to 10 degrees\n",
    "                        ),                        \n",
    "                        transforms.RandomErasing(p=0.1),\n",
    "                    ])),\n",
    "    batch_size=batch_size, shuffle=True, **kwargs)\n",
    "test_loader = torch.utils.data.DataLoader(\n",
    "    datasets.MNIST('../data', train=False, transform=transforms.Compose([\n",
    "                        transforms.ToTensor(),\n",
    "                        transforms.Normalize((0.1307,), (0.3081,))\n",
    "                    ])),\n",
    "    batch_size=batch_size, shuffle=True, **kwargs)"
   ]
  },
  {
   "cell_type": "code",
   "execution_count": null,
   "metadata": {
    "execution": {
     "iopub.execute_input": "2024-12-11T18:02:37.535652Z",
     "iopub.status.busy": "2024-12-11T18:02:37.534975Z",
     "iopub.status.idle": "2024-12-11T18:02:37.545590Z",
     "shell.execute_reply": "2024-12-11T18:02:37.544751Z",
     "shell.execute_reply.started": "2024-12-11T18:02:37.535618Z"
    },
    "trusted": true
   },
   "outputs": [],
   "source": [
    "class MiniCNN_3(nn.Module):\n",
    "    def __init__(self):\n",
    "        super(MiniCNN_3, self).__init__()\n",
    "        self.block_1 = nn.Sequential(\n",
    "            nn.Conv2d(\n",
    "                in_channels=1, out_channels=8, kernel_size=(3, 3), padding=1, bias=False\n",
    "            ),  # 28,1>28,8|RF:3,J:1\n",
    "            nn.BatchNorm2d(8),\n",
    "            nn.ReLU(),\n",
    "            nn.Conv2d(\n",
    "                in_channels=8, out_channels=8, kernel_size=(3, 3), padding=1, bias=False\n",
    "            ),  # 28,8>28,8|RF:5,J:1\n",
    "            nn.BatchNorm2d(8),\n",
    "            nn.ReLU(),\n",
    "            nn.Conv2d(\n",
    "                in_channels=8,\n",
    "                out_channels=16,\n",
    "                kernel_size=(3, 3),\n",
    "                padding=1,\n",
    "                bias=False,\n",
    "            ),  # 28,8>28,16|RF:7,J:1\n",
    "            nn.BatchNorm2d(16),\n",
    "            nn.ReLU(),\n",
    "            nn.Dropout(0.15)\n",
    "        )\n",
    "        self.pool_1 = nn.MaxPool2d(2, 2)  # 28,16>14,16|RF:8,J:2\n",
    "        self.transition_1 = nn.Conv2d(\n",
    "            in_channels=16, out_channels=4, kernel_size=(1, 1), padding=0, bias=False\n",
    "        )  # 14,16>14,8|RF:8,J:2\n",
    "        self.block_2 = nn.Sequential(\n",
    "            nn.Conv2d(\n",
    "                in_channels=4, out_channels=8, kernel_size=(3, 3), padding=1, bias=False\n",
    "            ),  # 14,8>14,8|RF:12,J:2\n",
    "            nn.BatchNorm2d(8),\n",
    "            nn.ReLU(),\n",
    "            nn.Conv2d(\n",
    "                in_channels=8,\n",
    "                out_channels=16,\n",
    "                kernel_size=(3, 3),\n",
    "                padding=1,\n",
    "                bias=False,\n",
    "            ),  # 14,8>14,16|RF:16,J:2\n",
    "            nn.BatchNorm2d(16),\n",
    "            nn.ReLU(),\n",
    "            nn.Conv2d(\n",
    "                in_channels=16,\n",
    "                out_channels=16,\n",
    "                kernel_size=(3, 3),\n",
    "                padding=1,\n",
    "                bias=False,\n",
    "            ),  # 14,16>14,16|RF:20,J:2\n",
    "            nn.BatchNorm2d(16),\n",
    "            nn.ReLU(),\n",
    "            nn.Dropout(0.1)\n",
    "        )\n",
    "        self.pool_2 = nn.MaxPool2d(2, 2)  # 14,16>7,16|RF:21,J:4\n",
    "        self.transition_2 = nn.Conv2d(\n",
    "            in_channels=16, out_channels=4, kernel_size=(1, 1), padding=0, bias=False\n",
    "        )  # 14,16>7,4|RF:21,J:4\n",
    "        self.fc = nn.Linear(4 * 7 * 7, 10)  # 7,4>10\n",
    "\n",
    "    def forward(self, x):\n",
    "        x = self.block_1(x)\n",
    "        x = self.pool_1(x)\n",
    "        x = self.transition_1(x)\n",
    "        x = self.block_2(x)\n",
    "        x = self.pool_2(x)\n",
    "        x = self.transition_2(x)\n",
    "        x = x.view(-1, 4 * 7 * 7)\n",
    "        x = self.fc(x)\n",
    "        return F.log_softmax(x, dim=-1)"
   ]
  },
  {
   "cell_type": "code",
   "execution_count": 9,
   "metadata": {
    "execution": {
     "iopub.execute_input": "2024-12-11T18:02:41.660453Z",
     "iopub.status.busy": "2024-12-11T18:02:41.660074Z",
     "iopub.status.idle": "2024-12-11T18:02:42.513154Z",
     "shell.execute_reply": "2024-12-11T18:02:42.512271Z",
     "shell.execute_reply.started": "2024-12-11T18:02:41.660422Z"
    },
    "trusted": true
   },
   "outputs": [
    {
     "name": "stdout",
     "output_type": "stream",
     "text": [
      "----------------------------------------------------------------\n",
      "        Layer (type)               Output Shape         Param #\n",
      "================================================================\n",
      "            Conv2d-1            [-1, 8, 28, 28]              72\n",
      "       BatchNorm2d-2            [-1, 8, 28, 28]              16\n",
      "              ReLU-3            [-1, 8, 28, 28]               0\n",
      "            Conv2d-4            [-1, 8, 28, 28]             576\n",
      "       BatchNorm2d-5            [-1, 8, 28, 28]              16\n",
      "              ReLU-6            [-1, 8, 28, 28]               0\n",
      "            Conv2d-7           [-1, 16, 28, 28]           1,152\n",
      "       BatchNorm2d-8           [-1, 16, 28, 28]              32\n",
      "              ReLU-9           [-1, 16, 28, 28]               0\n",
      "          Dropout-10           [-1, 16, 28, 28]               0\n",
      "        MaxPool2d-11           [-1, 16, 14, 14]               0\n",
      "           Conv2d-12            [-1, 4, 14, 14]              64\n",
      "           Conv2d-13            [-1, 8, 14, 14]             288\n",
      "      BatchNorm2d-14            [-1, 8, 14, 14]              16\n",
      "             ReLU-15            [-1, 8, 14, 14]               0\n",
      "           Conv2d-16           [-1, 16, 14, 14]           1,152\n",
      "      BatchNorm2d-17           [-1, 16, 14, 14]              32\n",
      "             ReLU-18           [-1, 16, 14, 14]               0\n",
      "           Conv2d-19           [-1, 16, 14, 14]           2,304\n",
      "      BatchNorm2d-20           [-1, 16, 14, 14]              32\n",
      "             ReLU-21           [-1, 16, 14, 14]               0\n",
      "          Dropout-22           [-1, 16, 14, 14]               0\n",
      "        MaxPool2d-23             [-1, 16, 7, 7]               0\n",
      "           Conv2d-24              [-1, 4, 7, 7]              64\n",
      "           Linear-25                   [-1, 10]           1,970\n",
      "================================================================\n",
      "Total params: 7,786\n",
      "Trainable params: 7,786\n",
      "Non-trainable params: 0\n",
      "----------------------------------------------------------------\n",
      "Input size (MB): 0.00\n",
      "Forward/backward pass size (MB): 0.91\n",
      "Params size (MB): 0.03\n",
      "Estimated Total Size (MB): 0.94\n",
      "----------------------------------------------------------------\n"
     ]
    }
   ],
   "source": [
    "model = MiniCNN_3().to(device)\n",
    "summary(model, input_size=(1, 28, 28))"
   ]
  },
  {
   "cell_type": "markdown",
   "metadata": {},
   "source": [
    "#### Layerwise Details\n",
    "\n",
    "| Layer | Input Size | Output Size | Receptive Field | Jump In | Jump Out |\n",
    "|-------|------------|-------------|-----------------|----------|-----------|\n",
    "| Conv1 | 28x28x1 | 28x28x8 | 3 | 1 | 1 |\n",
    "| Conv2 | 28x28x8 | 28x28x8 | 5 | 1 | 1 |\n",
    "| Conv3 | 28x28x8 | 28x28x16 | 7 | 1 | 1 |\n",
    "| MaxPool1 | 28x28x16 | 14x14x16 | 8 | 1 | 2 |\n",
    "| Transition-Conv1 | 14x14x16 | 14x14x4 | 8 | 2 | 2 |\n",
    "| Conv4 | 14x14x4 | 14x14x8 | 12 | 2 | 2 |\n",
    "| Conv5 | 14x14x8 | 14x14x16 | 16 | 2 | 2 |\n",
    "| Conv6 | 14x14x16 | 14x14x16 | 20 | 2 | 2 |\n",
    "| MaxPool2 | 14x14x16 | 7x7x16 | 21 | 2 | 4 |\n",
    "| Transition-Conv2 | 7x7x16 | 7x7x4 | 21 | 4 | 4 |\n",
    "| FC | 7x7x4 | 10 | - | - | - |"
   ]
  },
  {
   "cell_type": "code",
   "execution_count": 10,
   "metadata": {
    "execution": {
     "iopub.execute_input": "2024-12-11T18:03:02.658143Z",
     "iopub.status.busy": "2024-12-11T18:03:02.657805Z",
     "iopub.status.idle": "2024-12-11T18:07:34.397656Z",
     "shell.execute_reply": "2024-12-11T18:07:34.396489Z",
     "shell.execute_reply.started": "2024-12-11T18:03:02.658115Z"
    },
    "trusted": true
   },
   "outputs": [
    {
     "name": "stderr",
     "output_type": "stream",
     "text": [
      "/opt/conda/lib/python3.10/site-packages/torch/optim/lr_scheduler.py:60: UserWarning: The verbose parameter is deprecated. Please use get_last_lr() to access the learning rate.\n",
      "  warnings.warn(\n"
     ]
    },
    {
     "name": "stdout",
     "output_type": "stream",
     "text": [
      "********* Epoch = 1 *********\n"
     ]
    },
    {
     "name": "stderr",
     "output_type": "stream",
     "text": [
      "loss=0.1862 batch_id=58: 100%|██████████| 59/59 [00:17<00:00,  3.36it/s]"
     ]
    },
    {
     "name": "stdout",
     "output_type": "stream",
     "text": [
      "\n",
      "Epoch 1: Train set: Average loss: 0.3854, Accuracy: 52814/60000 (88.02%)\n",
      "\n"
     ]
    },
    {
     "name": "stderr",
     "output_type": "stream",
     "text": [
      "\n"
     ]
    },
    {
     "name": "stdout",
     "output_type": "stream",
     "text": [
      "\n",
      "Test set: Average loss: 0.0753, Accuracy: 9756/10000 (97.56%)\n",
      "\n",
      "LR =  [0.01]\n",
      "********* Epoch = 2 *********\n"
     ]
    },
    {
     "name": "stderr",
     "output_type": "stream",
     "text": [
      "loss=0.0934 batch_id=58: 100%|██████████| 59/59 [00:16<00:00,  3.49it/s]"
     ]
    },
    {
     "name": "stdout",
     "output_type": "stream",
     "text": [
      "\n",
      "Epoch 2: Train set: Average loss: 0.1268, Accuracy: 57606/60000 (96.01%)\n",
      "\n"
     ]
    },
    {
     "name": "stderr",
     "output_type": "stream",
     "text": [
      "\n"
     ]
    },
    {
     "name": "stdout",
     "output_type": "stream",
     "text": [
      "\n",
      "Test set: Average loss: 0.0544, Accuracy: 9830/10000 (98.30%)\n",
      "\n",
      "LR =  [0.01]\n",
      "********* Epoch = 3 *********\n"
     ]
    },
    {
     "name": "stderr",
     "output_type": "stream",
     "text": [
      "loss=0.0948 batch_id=58: 100%|██████████| 59/59 [00:17<00:00,  3.39it/s]"
     ]
    },
    {
     "name": "stdout",
     "output_type": "stream",
     "text": [
      "\n",
      "Epoch 3: Train set: Average loss: 0.1018, Accuracy: 58037/60000 (96.73%)\n",
      "\n"
     ]
    },
    {
     "name": "stderr",
     "output_type": "stream",
     "text": [
      "\n"
     ]
    },
    {
     "name": "stdout",
     "output_type": "stream",
     "text": [
      "\n",
      "Test set: Average loss: 0.0517, Accuracy: 9844/10000 (98.44%)\n",
      "\n",
      "LR =  [0.01]\n",
      "********* Epoch = 4 *********\n"
     ]
    },
    {
     "name": "stderr",
     "output_type": "stream",
     "text": [
      "loss=0.1110 batch_id=58: 100%|██████████| 59/59 [00:17<00:00,  3.39it/s]"
     ]
    },
    {
     "name": "stdout",
     "output_type": "stream",
     "text": [
      "\n",
      "Epoch 4: Train set: Average loss: 0.0926, Accuracy: 58188/60000 (96.98%)\n",
      "\n"
     ]
    },
    {
     "name": "stderr",
     "output_type": "stream",
     "text": [
      "\n"
     ]
    },
    {
     "name": "stdout",
     "output_type": "stream",
     "text": [
      "\n",
      "Test set: Average loss: 0.0468, Accuracy: 9861/10000 (98.61%)\n",
      "\n",
      "LR =  [0.01]\n",
      "********* Epoch = 5 *********\n"
     ]
    },
    {
     "name": "stderr",
     "output_type": "stream",
     "text": [
      "loss=0.0652 batch_id=58: 100%|██████████| 59/59 [00:16<00:00,  3.54it/s]"
     ]
    },
    {
     "name": "stdout",
     "output_type": "stream",
     "text": [
      "\n",
      "Epoch 5: Train set: Average loss: 0.0835, Accuracy: 58382/60000 (97.30%)\n",
      "\n"
     ]
    },
    {
     "name": "stderr",
     "output_type": "stream",
     "text": [
      "\n"
     ]
    },
    {
     "name": "stdout",
     "output_type": "stream",
     "text": [
      "\n",
      "Test set: Average loss: 0.0392, Accuracy: 9868/10000 (98.68%)\n",
      "\n",
      "LR =  [0.01]\n",
      "********* Epoch = 6 *********\n"
     ]
    },
    {
     "name": "stderr",
     "output_type": "stream",
     "text": [
      "loss=0.0784 batch_id=58: 100%|██████████| 59/59 [00:17<00:00,  3.47it/s]"
     ]
    },
    {
     "name": "stdout",
     "output_type": "stream",
     "text": [
      "\n",
      "Epoch 6: Train set: Average loss: 0.0789, Accuracy: 58431/60000 (97.39%)\n",
      "\n"
     ]
    },
    {
     "name": "stderr",
     "output_type": "stream",
     "text": [
      "\n"
     ]
    },
    {
     "name": "stdout",
     "output_type": "stream",
     "text": [
      "\n",
      "Test set: Average loss: 0.0401, Accuracy: 9871/10000 (98.71%)\n",
      "\n",
      "LR =  [0.01]\n",
      "********* Epoch = 7 *********\n"
     ]
    },
    {
     "name": "stderr",
     "output_type": "stream",
     "text": [
      "loss=0.0717 batch_id=58: 100%|██████████| 59/59 [00:16<00:00,  3.53it/s]"
     ]
    },
    {
     "name": "stdout",
     "output_type": "stream",
     "text": [
      "\n",
      "Epoch 7: Train set: Average loss: 0.0755, Accuracy: 58513/60000 (97.52%)\n",
      "\n"
     ]
    },
    {
     "name": "stderr",
     "output_type": "stream",
     "text": [
      "\n"
     ]
    },
    {
     "name": "stdout",
     "output_type": "stream",
     "text": [
      "\n",
      "Test set: Average loss: 0.0304, Accuracy: 9892/10000 (98.92%)\n",
      "\n",
      "LR =  [0.01]\n",
      "********* Epoch = 8 *********\n"
     ]
    },
    {
     "name": "stderr",
     "output_type": "stream",
     "text": [
      "loss=0.0469 batch_id=58: 100%|██████████| 59/59 [00:17<00:00,  3.39it/s]"
     ]
    },
    {
     "name": "stdout",
     "output_type": "stream",
     "text": [
      "\n",
      "Epoch 8: Train set: Average loss: 0.0712, Accuracy: 58598/60000 (97.66%)\n",
      "\n"
     ]
    },
    {
     "name": "stderr",
     "output_type": "stream",
     "text": [
      "\n"
     ]
    },
    {
     "name": "stdout",
     "output_type": "stream",
     "text": [
      "\n",
      "Test set: Average loss: 0.0292, Accuracy: 9905/10000 (99.05%)\n",
      "\n",
      "LR =  [0.01]\n",
      "********* Epoch = 9 *********\n"
     ]
    },
    {
     "name": "stderr",
     "output_type": "stream",
     "text": [
      "loss=0.0634 batch_id=58: 100%|██████████| 59/59 [00:16<00:00,  3.52it/s]"
     ]
    },
    {
     "name": "stdout",
     "output_type": "stream",
     "text": [
      "\n",
      "Epoch 9: Train set: Average loss: 0.0682, Accuracy: 58631/60000 (97.72%)\n",
      "\n"
     ]
    },
    {
     "name": "stderr",
     "output_type": "stream",
     "text": [
      "\n"
     ]
    },
    {
     "name": "stdout",
     "output_type": "stream",
     "text": [
      "\n",
      "Test set: Average loss: 0.0252, Accuracy: 9917/10000 (99.17%)\n",
      "\n",
      "LR =  [0.01]\n",
      "********* Epoch = 10 *********\n"
     ]
    },
    {
     "name": "stderr",
     "output_type": "stream",
     "text": [
      "loss=0.0770 batch_id=58: 100%|██████████| 59/59 [00:17<00:00,  3.44it/s]"
     ]
    },
    {
     "name": "stdout",
     "output_type": "stream",
     "text": [
      "\n",
      "Epoch 10: Train set: Average loss: 0.0672, Accuracy: 58675/60000 (97.79%)\n",
      "\n"
     ]
    },
    {
     "name": "stderr",
     "output_type": "stream",
     "text": [
      "\n"
     ]
    },
    {
     "name": "stdout",
     "output_type": "stream",
     "text": [
      "\n",
      "Test set: Average loss: 0.0254, Accuracy: 9913/10000 (99.13%)\n",
      "\n",
      "LR =  [0.01]\n",
      "********* Epoch = 11 *********\n"
     ]
    },
    {
     "name": "stderr",
     "output_type": "stream",
     "text": [
      "loss=0.0579 batch_id=58: 100%|██████████| 59/59 [00:16<00:00,  3.48it/s]"
     ]
    },
    {
     "name": "stdout",
     "output_type": "stream",
     "text": [
      "\n",
      "Epoch 11: Train set: Average loss: 0.0628, Accuracy: 58757/60000 (97.93%)\n",
      "\n"
     ]
    },
    {
     "name": "stderr",
     "output_type": "stream",
     "text": [
      "\n"
     ]
    },
    {
     "name": "stdout",
     "output_type": "stream",
     "text": [
      "\n",
      "Test set: Average loss: 0.0262, Accuracy: 9915/10000 (99.15%)\n",
      "\n",
      "LR =  [0.001]\n",
      "********* Epoch = 12 *********\n"
     ]
    },
    {
     "name": "stderr",
     "output_type": "stream",
     "text": [
      "loss=0.0592 batch_id=58: 100%|██████████| 59/59 [00:16<00:00,  3.53it/s]"
     ]
    },
    {
     "name": "stdout",
     "output_type": "stream",
     "text": [
      "\n",
      "Epoch 12: Train set: Average loss: 0.0527, Accuracy: 58990/60000 (98.32%)\n",
      "\n"
     ]
    },
    {
     "name": "stderr",
     "output_type": "stream",
     "text": [
      "\n"
     ]
    },
    {
     "name": "stdout",
     "output_type": "stream",
     "text": [
      "\n",
      "Test set: Average loss: 0.0210, Accuracy: 9937/10000 (99.37%)\n",
      "\n",
      "LR =  [0.001]\n",
      "********* Epoch = 13 *********\n"
     ]
    },
    {
     "name": "stderr",
     "output_type": "stream",
     "text": [
      "loss=0.0425 batch_id=58: 100%|██████████| 59/59 [00:17<00:00,  3.45it/s]"
     ]
    },
    {
     "name": "stdout",
     "output_type": "stream",
     "text": [
      "\n",
      "Epoch 13: Train set: Average loss: 0.0503, Accuracy: 58993/60000 (98.32%)\n",
      "\n"
     ]
    },
    {
     "name": "stderr",
     "output_type": "stream",
     "text": [
      "\n"
     ]
    },
    {
     "name": "stdout",
     "output_type": "stream",
     "text": [
      "\n",
      "Test set: Average loss: 0.0195, Accuracy: 9940/10000 (99.40%)\n",
      "\n",
      "LR =  [0.001]\n",
      "********* Epoch = 14 *********\n"
     ]
    },
    {
     "name": "stderr",
     "output_type": "stream",
     "text": [
      "loss=0.0426 batch_id=58: 100%|██████████| 59/59 [00:16<00:00,  3.57it/s]"
     ]
    },
    {
     "name": "stdout",
     "output_type": "stream",
     "text": [
      "\n",
      "Epoch 14: Train set: Average loss: 0.0477, Accuracy: 59060/60000 (98.43%)\n",
      "\n"
     ]
    },
    {
     "name": "stderr",
     "output_type": "stream",
     "text": [
      "\n"
     ]
    },
    {
     "name": "stdout",
     "output_type": "stream",
     "text": [
      "\n",
      "Test set: Average loss: 0.0196, Accuracy: 9943/10000 (99.43%)\n",
      "\n",
      "LR =  [0.001]\n",
      "********* Epoch = 15 *********\n"
     ]
    },
    {
     "name": "stderr",
     "output_type": "stream",
     "text": [
      "loss=0.0560 batch_id=58: 100%|██████████| 59/59 [00:17<00:00,  3.44it/s]"
     ]
    },
    {
     "name": "stdout",
     "output_type": "stream",
     "text": [
      "\n",
      "Epoch 15: Train set: Average loss: 0.0471, Accuracy: 59043/60000 (98.41%)\n",
      "\n"
     ]
    },
    {
     "name": "stderr",
     "output_type": "stream",
     "text": [
      "\n"
     ]
    },
    {
     "name": "stdout",
     "output_type": "stream",
     "text": [
      "\n",
      "Test set: Average loss: 0.0189, Accuracy: 9944/10000 (99.44%)\n",
      "\n",
      "LR =  [0.001]\n"
     ]
    }
   ],
   "source": [
    "optimizer = optim.Adam(model.parameters(), lr=0.01)\n",
    "scheduler = ReduceLROnPlateau(\n",
    "    optimizer,\n",
    "    mode=\"max\",\n",
    "    factor=0.1,\n",
    "    patience=1,\n",
    "    verbose=True,\n",
    "    min_lr=1e-6,\n",
    ")\n",
    "\n",
    "for epoch in range(1, 16):\n",
    "    print(f\"********* Epoch = {epoch} *********\")\n",
    "    train(model, device, train_loader, optimizer, epoch)\n",
    "    _, acc = test(model, device, test_loader)\n",
    "    scheduler.step(acc)\n",
    "    print(\"LR = \", scheduler.get_last_lr())"
   ]
  },
  {
   "cell_type": "markdown",
   "metadata": {},
   "source": [
    "#### Observations\n",
    "\n",
    "* Max Train Accuracy: 98.43%\n",
    "* Max Test Accuracy: 99.44%\n",
    "* Image transformation really helped in increasing Test accuracy. Train accuracy has been impacted but it is not overfitting anymore."
   ]
  },
  {
   "cell_type": "code",
   "execution_count": null,
   "metadata": {
    "trusted": true
   },
   "outputs": [],
   "source": []
  }
 ],
 "metadata": {
  "kaggle": {
   "accelerator": "nvidiaTeslaT4",
   "dataSources": [],
   "dockerImageVersionId": 30805,
   "isGpuEnabled": true,
   "isInternetEnabled": true,
   "language": "python",
   "sourceType": "notebook"
  },
  "kernelspec": {
   "display_name": "Python 3",
   "language": "python",
   "name": "python3"
  },
  "language_info": {
   "codemirror_mode": {
    "name": "ipython",
    "version": 3
   },
   "file_extension": ".py",
   "mimetype": "text/x-python",
   "name": "python",
   "nbconvert_exporter": "python",
   "pygments_lexer": "ipython3",
   "version": "3.10.14"
  }
 },
 "nbformat": 4,
 "nbformat_minor": 4
}
