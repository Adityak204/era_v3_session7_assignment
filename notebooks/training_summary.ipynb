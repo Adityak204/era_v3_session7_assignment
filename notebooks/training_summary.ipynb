{
 "cells": [
  {
   "cell_type": "code",
   "execution_count": 14,
   "metadata": {},
   "outputs": [],
   "source": [
    "from __future__ import print_function\n",
    "import torch\n",
    "import torch.nn as nn\n",
    "import torch.nn.functional as F\n",
    "import torch.optim as optim\n",
    "from torchvision import datasets, transforms\n",
    "from torch.optim.lr_scheduler import ReduceLROnPlateau\n",
    "import random\n",
    "import matplotlib.pyplot as plt\n",
    "from torchsummary import summary\n",
    "import os"
   ]
  },
  {
   "cell_type": "code",
   "execution_count": null,
   "metadata": {},
   "outputs": [
    {
     "data": {
      "text/plain": [
       "'/Users/aditya/Documents/self_learning/ERA V3/week 7/micro_cnn'"
      ]
     },
     "execution_count": 6,
     "metadata": {},
     "output_type": "execute_result"
    }
   ],
   "source": [
    "# os.getcwd()\n",
    "# os.chdir(\"/Users/aditya/Documents/self_learning/ERA V3/week 7/micro_cnn\")"
   ]
  },
  {
   "cell_type": "markdown",
   "metadata": {},
   "source": [
    "### Functions & utilities"
   ]
  },
  {
   "cell_type": "code",
   "execution_count": 7,
   "metadata": {},
   "outputs": [],
   "source": [
    "from src.utils import plot_random_mnist_images"
   ]
  },
  {
   "cell_type": "code",
   "execution_count": 8,
   "metadata": {},
   "outputs": [],
   "source": [
    "from tqdm import tqdm\n",
    "import torch.nn.functional as F\n",
    "\n",
    "def train(model, device, train_loader, optimizer, epoch):\n",
    "    model.train()\n",
    "    train_loss = 0\n",
    "    correct = 0\n",
    "    total = 0\n",
    "    pbar = tqdm(train_loader)\n",
    "\n",
    "    for batch_idx, (data, target) in enumerate(pbar):\n",
    "        data, target = data.to(device), target.to(device)\n",
    "        optimizer.zero_grad()\n",
    "        output = model(data)\n",
    "        \n",
    "        # Compute loss\n",
    "        loss = F.nll_loss(output, target)\n",
    "        train_loss += loss.item() * data.size(0)  # accumulate batch loss\n",
    "        \n",
    "        # Backward pass and optimizer step\n",
    "        loss.backward()\n",
    "        optimizer.step()\n",
    "        \n",
    "        # Compute accuracy\n",
    "        pred = output.argmax(dim=1, keepdim=True)\n",
    "        correct += pred.eq(target.view_as(pred)).sum().item()\n",
    "        total += target.size(0)\n",
    "\n",
    "        # Update progress bar\n",
    "        pbar.set_description(desc=f\"loss={loss.item():.4f} batch_id={batch_idx}\")\n",
    "\n",
    "    # Compute average loss and accuracy for the epoch\n",
    "    avg_loss = train_loss / len(train_loader.dataset)\n",
    "    accuracy = 100.0 * correct / total\n",
    "\n",
    "    print(f\"\\nEpoch {epoch}: Train set: Average loss: {avg_loss:.4f}, Accuracy: {correct}/{total} ({accuracy:.2f}%)\\n\")\n",
    "    return avg_loss, accuracy\n",
    "\n",
    "\n",
    "def test(model, device, test_loader):\n",
    "    model.eval()\n",
    "    test_loss = 0\n",
    "    correct = 0\n",
    "\n",
    "    with torch.no_grad():\n",
    "        for data, target in test_loader:\n",
    "            data, target = data.to(device), target.to(device)\n",
    "            output = model(data)\n",
    "            \n",
    "            # Compute loss\n",
    "            test_loss += F.nll_loss(output, target, reduction=\"sum\").item()\n",
    "            \n",
    "            # Compute accuracy\n",
    "            pred = output.argmax(dim=1, keepdim=True)\n",
    "            correct += pred.eq(target.view_as(pred)).sum().item()\n",
    "\n",
    "    # Compute average loss and accuracy for the test set\n",
    "    test_loss /= len(test_loader.dataset)\n",
    "    accuracy = 100.0 * correct / len(test_loader.dataset)\n",
    "\n",
    "    print(\n",
    "        \"\\nTest set: Average loss: {:.4f}, Accuracy: {}/{} ({:.2f}%)\\n\".format(\n",
    "            test_loss, correct, len(test_loader.dataset), accuracy\n",
    "        )\n",
    "    )\n",
    "    return test_loss, accuracy"
   ]
  },
  {
   "cell_type": "code",
   "execution_count": null,
   "metadata": {},
   "outputs": [
    {
     "name": "stdout",
     "output_type": "stream",
     "text": [
      "cpu\n"
     ]
    }
   ],
   "source": [
    "## Checking if CUDA is available\n",
    "use_cuda = torch.cuda.is_available()\n",
    "device = torch.device(\"cuda\" if use_cuda else \"cpu\")\n",
    "print(device)"
   ]
  },
  {
   "cell_type": "code",
   "execution_count": null,
   "metadata": {},
   "outputs": [
    {
     "data": {
      "text/plain": [
       "8"
      ]
     },
     "execution_count": 10,
     "metadata": {},
     "output_type": "execute_result"
    }
   ],
   "source": [
    "## Checking number of cores available\n",
    "import multiprocessing\n",
    "multiprocessing.cpu_count()"
   ]
  },
  {
   "cell_type": "markdown",
   "metadata": {},
   "source": [
    "### Loading MNIST data"
   ]
  },
  {
   "cell_type": "code",
   "execution_count": 11,
   "metadata": {},
   "outputs": [
    {
     "name": "stdout",
     "output_type": "stream",
     "text": [
      "Downloading http://yann.lecun.com/exdb/mnist/train-images-idx3-ubyte.gz\n",
      "Failed to download (trying next):\n",
      "HTTP Error 403: Forbidden\n",
      "\n",
      "Downloading https://ossci-datasets.s3.amazonaws.com/mnist/train-images-idx3-ubyte.gz\n",
      "Downloading https://ossci-datasets.s3.amazonaws.com/mnist/train-images-idx3-ubyte.gz to ../data/MNIST/raw/train-images-idx3-ubyte.gz\n"
     ]
    },
    {
     "name": "stderr",
     "output_type": "stream",
     "text": [
      "100%|██████████| 9912422/9912422 [00:37<00:00, 264670.41it/s]\n"
     ]
    },
    {
     "name": "stdout",
     "output_type": "stream",
     "text": [
      "Extracting ../data/MNIST/raw/train-images-idx3-ubyte.gz to ../data/MNIST/raw\n",
      "\n",
      "Downloading http://yann.lecun.com/exdb/mnist/train-labels-idx1-ubyte.gz\n",
      "Failed to download (trying next):\n",
      "HTTP Error 403: Forbidden\n",
      "\n",
      "Downloading https://ossci-datasets.s3.amazonaws.com/mnist/train-labels-idx1-ubyte.gz\n",
      "Downloading https://ossci-datasets.s3.amazonaws.com/mnist/train-labels-idx1-ubyte.gz to ../data/MNIST/raw/train-labels-idx1-ubyte.gz\n"
     ]
    },
    {
     "name": "stderr",
     "output_type": "stream",
     "text": [
      "100%|██████████| 28881/28881 [00:00<00:00, 111024.78it/s]\n"
     ]
    },
    {
     "name": "stdout",
     "output_type": "stream",
     "text": [
      "Extracting ../data/MNIST/raw/train-labels-idx1-ubyte.gz to ../data/MNIST/raw\n",
      "\n",
      "Downloading http://yann.lecun.com/exdb/mnist/t10k-images-idx3-ubyte.gz\n",
      "Failed to download (trying next):\n",
      "HTTP Error 403: Forbidden\n",
      "\n",
      "Downloading https://ossci-datasets.s3.amazonaws.com/mnist/t10k-images-idx3-ubyte.gz\n",
      "Downloading https://ossci-datasets.s3.amazonaws.com/mnist/t10k-images-idx3-ubyte.gz to ../data/MNIST/raw/t10k-images-idx3-ubyte.gz\n"
     ]
    },
    {
     "name": "stderr",
     "output_type": "stream",
     "text": [
      "100%|██████████| 1648877/1648877 [00:18<00:00, 86875.94it/s] \n"
     ]
    },
    {
     "name": "stdout",
     "output_type": "stream",
     "text": [
      "Extracting ../data/MNIST/raw/t10k-images-idx3-ubyte.gz to ../data/MNIST/raw\n",
      "\n",
      "Downloading http://yann.lecun.com/exdb/mnist/t10k-labels-idx1-ubyte.gz\n",
      "Failed to download (trying next):\n",
      "HTTP Error 403: Forbidden\n",
      "\n",
      "Downloading https://ossci-datasets.s3.amazonaws.com/mnist/t10k-labels-idx1-ubyte.gz\n",
      "Downloading https://ossci-datasets.s3.amazonaws.com/mnist/t10k-labels-idx1-ubyte.gz to ../data/MNIST/raw/t10k-labels-idx1-ubyte.gz\n"
     ]
    },
    {
     "name": "stderr",
     "output_type": "stream",
     "text": [
      "100%|██████████| 4542/4542 [00:00<00:00, 1006845.77it/s]"
     ]
    },
    {
     "name": "stdout",
     "output_type": "stream",
     "text": [
      "Extracting ../data/MNIST/raw/t10k-labels-idx1-ubyte.gz to ../data/MNIST/raw\n",
      "\n"
     ]
    },
    {
     "name": "stderr",
     "output_type": "stream",
     "text": [
      "\n"
     ]
    }
   ],
   "source": [
    "torch.manual_seed(42)\n",
    "if device == 'cuda':\n",
    "    torch.cuda.manual_seed(42)\n",
    "batch_size = 512\n",
    "kwargs = {'num_workers': 8, 'pin_memory': True} if use_cuda else {}\n",
    "train_loader = torch.utils.data.DataLoader(\n",
    "    datasets.MNIST('../data', train=True, download=True,\n",
    "                    transform=transforms.Compose([\n",
    "                        transforms.ToTensor(),\n",
    "                        transforms.Normalize((0.1307,), (0.3081,)),\n",
    "                    ])),\n",
    "    batch_size=batch_size, shuffle=True, **kwargs)\n",
    "test_loader = torch.utils.data.DataLoader(\n",
    "    datasets.MNIST('../data', train=False, transform=transforms.Compose([\n",
    "                        transforms.ToTensor(),\n",
    "                        transforms.Normalize((0.1307,), (0.3081,))\n",
    "                    ])),\n",
    "    batch_size=batch_size, shuffle=True, **kwargs)"
   ]
  },
  {
   "cell_type": "markdown",
   "metadata": {},
   "source": [
    "### Creating Base Model\n",
    "- Aim in this step is to create a based model first which adhere to the constraints of less than 8k parametes\n",
    "- No major data transformation is used except for normalization\n",
    "- We will closely monitor the train and test accuracy and loss to understand the model performance\n",
    "- In assignment 6 we observed one key point around **LR schedueler**. It significantly **improves the training loss convergence**. We will use the same here"
   ]
  },
  {
   "cell_type": "code",
   "execution_count": 13,
   "metadata": {},
   "outputs": [],
   "source": [
    "from src.model import MiniCNN_1"
   ]
  },
  {
   "cell_type": "code",
   "execution_count": 15,
   "metadata": {},
   "outputs": [
    {
     "name": "stdout",
     "output_type": "stream",
     "text": [
      "----------------------------------------------------------------\n",
      "        Layer (type)               Output Shape         Param #\n",
      "================================================================\n",
      "            Conv2d-1            [-1, 8, 28, 28]              72\n",
      "              ReLU-2            [-1, 8, 28, 28]               0\n",
      "            Conv2d-3            [-1, 8, 28, 28]             576\n",
      "              ReLU-4            [-1, 8, 28, 28]               0\n",
      "            Conv2d-5            [-1, 8, 28, 28]             576\n",
      "              ReLU-6            [-1, 8, 28, 28]               0\n",
      "         MaxPool2d-7            [-1, 8, 14, 14]               0\n",
      "            Conv2d-8            [-1, 4, 14, 14]              32\n",
      "            Conv2d-9            [-1, 8, 14, 14]             288\n",
      "             ReLU-10            [-1, 8, 14, 14]               0\n",
      "           Conv2d-11           [-1, 16, 14, 14]           1,152\n",
      "             ReLU-12           [-1, 16, 14, 14]               0\n",
      "           Conv2d-13           [-1, 16, 14, 14]           2,304\n",
      "             ReLU-14           [-1, 16, 14, 14]               0\n",
      "        MaxPool2d-15             [-1, 16, 7, 7]               0\n",
      "           Conv2d-16              [-1, 4, 7, 7]              64\n",
      "           Linear-17                   [-1, 10]           1,970\n",
      "================================================================\n",
      "Total params: 7,034\n",
      "Trainable params: 7,034\n",
      "Non-trainable params: 0\n",
      "----------------------------------------------------------------\n",
      "Input size (MB): 0.00\n",
      "Forward/backward pass size (MB): 0.43\n",
      "Params size (MB): 0.03\n",
      "Estimated Total Size (MB): 0.46\n",
      "----------------------------------------------------------------\n"
     ]
    }
   ],
   "source": [
    "model = MiniCNN_1().to(device)\n",
    "summary(model, input_size=(1, 28, 28))"
   ]
  },
  {
   "cell_type": "markdown",
   "metadata": {},
   "source": [
    "#### Layerwise Details\n",
    "\n",
    "| Layer | Input Size | Output Size | Receptive Field | Jump In | Jump Out |\n",
    "|-------|------------|-------------|-----------------|----------|-----------|\n",
    "| Conv1 | 28x28x1 | 28x28x8 | 3 | 1 | 1 |\n",
    "| Conv2 | 28x28x8 | 28x28x8 | 5 | 1 | 1 |\n",
    "| Conv3 | 28x28x8 | 28x28x8 | 7 | 1 | 1 |\n",
    "| MaxPool1 | 28x28x8 | 14x14x8 | 8 | 1 | 2 |\n",
    "| Transition-Conv1 | 14x14x8 | 14x14x4 | 8 | 2 | 2 |\n",
    "| Conv4 | 14x14x4 | 14x14x8 | 12 | 2 | 2 |\n",
    "| Conv5 | 14x14x8 | 14x14x16 | 16 | 2 | 2 |\n",
    "| Conv6 | 14x14x16 | 14x14x16 | 20 | 2 | 2 |\n",
    "| MaxPool2 | 14x14x16 | 7x7x16 | 21 | 2 | 4 |\n",
    "| Transition-Conv1 | 7x7x16 | 7x7x3 | 21 | 4 | 4 |\n",
    "| FC | 7x7x3 | 10 | - | - | - |\n"
   ]
  },
  {
   "cell_type": "code",
   "execution_count": 16,
   "metadata": {},
   "outputs": [
    {
     "name": "stderr",
     "output_type": "stream",
     "text": [
      "/Users/aditya/miniconda3/envs/era_dl_env/lib/python3.10/site-packages/torch/optim/lr_scheduler.py:28: UserWarning: The verbose parameter is deprecated. Please use get_last_lr() to access the learning rate.\n",
      "  warnings.warn(\"The verbose parameter is deprecated. Please use get_last_lr() \"\n"
     ]
    },
    {
     "name": "stdout",
     "output_type": "stream",
     "text": [
      "********* Epoch = 1 *********\n"
     ]
    },
    {
     "name": "stderr",
     "output_type": "stream",
     "text": [
      "loss=0.1123 batch_id=117: 100%|██████████| 118/118 [00:21<00:00,  5.40it/s]\n"
     ]
    },
    {
     "name": "stdout",
     "output_type": "stream",
     "text": [
      "\n",
      "Epoch 1: Train set: Average loss: 0.4793, Accuracy: 50720/60000 (84.53%)\n",
      "\n",
      "\n",
      "Test set: Average loss: 0.0884, Accuracy: 9699/10000 (96.99%)\n",
      "\n",
      "********* Epoch = 2 *********\n"
     ]
    },
    {
     "name": "stderr",
     "output_type": "stream",
     "text": [
      "loss=0.0897 batch_id=117: 100%|██████████| 118/118 [00:21<00:00,  5.40it/s]\n"
     ]
    },
    {
     "name": "stdout",
     "output_type": "stream",
     "text": [
      "\n",
      "Epoch 2: Train set: Average loss: 0.0841, Accuracy: 58471/60000 (97.45%)\n",
      "\n",
      "\n",
      "Test set: Average loss: 0.0583, Accuracy: 9810/10000 (98.10%)\n",
      "\n",
      "********* Epoch = 3 *********\n"
     ]
    },
    {
     "name": "stderr",
     "output_type": "stream",
     "text": [
      "loss=0.0231 batch_id=117: 100%|██████████| 118/118 [00:21<00:00,  5.37it/s]\n"
     ]
    },
    {
     "name": "stdout",
     "output_type": "stream",
     "text": [
      "\n",
      "Epoch 3: Train set: Average loss: 0.0652, Accuracy: 58801/60000 (98.00%)\n",
      "\n",
      "\n",
      "Test set: Average loss: 0.0518, Accuracy: 9839/10000 (98.39%)\n",
      "\n",
      "********* Epoch = 4 *********\n"
     ]
    },
    {
     "name": "stderr",
     "output_type": "stream",
     "text": [
      "loss=0.1406 batch_id=117: 100%|██████████| 118/118 [00:23<00:00,  5.10it/s]\n"
     ]
    },
    {
     "name": "stdout",
     "output_type": "stream",
     "text": [
      "\n",
      "Epoch 4: Train set: Average loss: 0.0543, Accuracy: 59012/60000 (98.35%)\n",
      "\n",
      "\n",
      "Test set: Average loss: 0.0370, Accuracy: 9871/10000 (98.71%)\n",
      "\n",
      "********* Epoch = 5 *********\n"
     ]
    },
    {
     "name": "stderr",
     "output_type": "stream",
     "text": [
      "loss=0.0267 batch_id=117: 100%|██████████| 118/118 [00:23<00:00,  5.08it/s]\n"
     ]
    },
    {
     "name": "stdout",
     "output_type": "stream",
     "text": [
      "\n",
      "Epoch 5: Train set: Average loss: 0.0457, Accuracy: 59178/60000 (98.63%)\n",
      "\n",
      "\n",
      "Test set: Average loss: 0.0376, Accuracy: 9867/10000 (98.67%)\n",
      "\n",
      "********* Epoch = 6 *********\n"
     ]
    },
    {
     "name": "stderr",
     "output_type": "stream",
     "text": [
      "loss=0.0315 batch_id=117: 100%|██████████| 118/118 [00:23<00:00,  5.00it/s]\n"
     ]
    },
    {
     "name": "stdout",
     "output_type": "stream",
     "text": [
      "\n",
      "Epoch 6: Train set: Average loss: 0.0402, Accuracy: 59227/60000 (98.71%)\n",
      "\n",
      "\n",
      "Test set: Average loss: 0.0568, Accuracy: 9817/10000 (98.17%)\n",
      "\n",
      "********* Epoch = 7 *********\n"
     ]
    },
    {
     "name": "stderr",
     "output_type": "stream",
     "text": [
      "loss=0.0690 batch_id=117: 100%|██████████| 118/118 [00:23<00:00,  4.95it/s]\n"
     ]
    },
    {
     "name": "stdout",
     "output_type": "stream",
     "text": [
      "\n",
      "Epoch 7: Train set: Average loss: 0.0363, Accuracy: 59305/60000 (98.84%)\n",
      "\n",
      "\n",
      "Test set: Average loss: 0.0427, Accuracy: 9874/10000 (98.74%)\n",
      "\n",
      "********* Epoch = 8 *********\n"
     ]
    },
    {
     "name": "stderr",
     "output_type": "stream",
     "text": [
      "loss=0.0153 batch_id=117: 100%|██████████| 118/118 [00:23<00:00,  4.93it/s]\n"
     ]
    },
    {
     "name": "stdout",
     "output_type": "stream",
     "text": [
      "\n",
      "Epoch 8: Train set: Average loss: 0.0367, Accuracy: 59333/60000 (98.89%)\n",
      "\n",
      "\n",
      "Test set: Average loss: 0.0384, Accuracy: 9873/10000 (98.73%)\n",
      "\n",
      "********* Epoch = 9 *********\n"
     ]
    },
    {
     "name": "stderr",
     "output_type": "stream",
     "text": [
      "loss=0.0154 batch_id=117: 100%|██████████| 118/118 [00:24<00:00,  4.85it/s]\n"
     ]
    },
    {
     "name": "stdout",
     "output_type": "stream",
     "text": [
      "\n",
      "Epoch 9: Train set: Average loss: 0.0337, Accuracy: 59375/60000 (98.96%)\n",
      "\n",
      "\n",
      "Test set: Average loss: 0.0444, Accuracy: 9858/10000 (98.58%)\n",
      "\n",
      "********* Epoch = 10 *********\n"
     ]
    },
    {
     "name": "stderr",
     "output_type": "stream",
     "text": [
      "loss=0.0037 batch_id=117: 100%|██████████| 118/118 [00:24<00:00,  4.85it/s]\n"
     ]
    },
    {
     "name": "stdout",
     "output_type": "stream",
     "text": [
      "\n",
      "Epoch 10: Train set: Average loss: 0.0291, Accuracy: 59439/60000 (99.06%)\n",
      "\n",
      "\n",
      "Test set: Average loss: 0.0424, Accuracy: 9875/10000 (98.75%)\n",
      "\n",
      "********* Epoch = 11 *********\n"
     ]
    },
    {
     "name": "stderr",
     "output_type": "stream",
     "text": [
      "loss=0.0116 batch_id=117: 100%|██████████| 118/118 [00:24<00:00,  4.84it/s]\n"
     ]
    },
    {
     "name": "stdout",
     "output_type": "stream",
     "text": [
      "\n",
      "Epoch 11: Train set: Average loss: 0.0279, Accuracy: 59461/60000 (99.10%)\n",
      "\n",
      "\n",
      "Test set: Average loss: 0.0413, Accuracy: 9877/10000 (98.77%)\n",
      "\n",
      "********* Epoch = 12 *********\n"
     ]
    },
    {
     "name": "stderr",
     "output_type": "stream",
     "text": [
      "loss=0.0253 batch_id=117: 100%|██████████| 118/118 [00:24<00:00,  4.80it/s]\n"
     ]
    },
    {
     "name": "stdout",
     "output_type": "stream",
     "text": [
      "\n",
      "Epoch 12: Train set: Average loss: 0.0291, Accuracy: 59444/60000 (99.07%)\n",
      "\n",
      "\n",
      "Test set: Average loss: 0.0332, Accuracy: 9906/10000 (99.06%)\n",
      "\n",
      "********* Epoch = 13 *********\n"
     ]
    },
    {
     "name": "stderr",
     "output_type": "stream",
     "text": [
      "loss=0.0024 batch_id=117: 100%|██████████| 118/118 [00:24<00:00,  4.80it/s]\n"
     ]
    },
    {
     "name": "stdout",
     "output_type": "stream",
     "text": [
      "\n",
      "Epoch 13: Train set: Average loss: 0.0253, Accuracy: 59521/60000 (99.20%)\n",
      "\n",
      "\n",
      "Test set: Average loss: 0.0413, Accuracy: 9874/10000 (98.74%)\n",
      "\n",
      "********* Epoch = 14 *********\n"
     ]
    },
    {
     "name": "stderr",
     "output_type": "stream",
     "text": [
      "loss=0.0757 batch_id=117: 100%|██████████| 118/118 [00:24<00:00,  4.79it/s]\n"
     ]
    },
    {
     "name": "stdout",
     "output_type": "stream",
     "text": [
      "\n",
      "Epoch 14: Train set: Average loss: 0.0274, Accuracy: 59452/60000 (99.09%)\n",
      "\n",
      "\n",
      "Test set: Average loss: 0.0491, Accuracy: 9856/10000 (98.56%)\n",
      "\n",
      "********* Epoch = 15 *********\n"
     ]
    },
    {
     "name": "stderr",
     "output_type": "stream",
     "text": [
      "loss=0.0372 batch_id=117: 100%|██████████| 118/118 [00:24<00:00,  4.80it/s]\n"
     ]
    },
    {
     "name": "stdout",
     "output_type": "stream",
     "text": [
      "\n",
      "Epoch 15: Train set: Average loss: 0.0281, Accuracy: 59467/60000 (99.11%)\n",
      "\n",
      "\n",
      "Test set: Average loss: 0.0402, Accuracy: 9884/10000 (98.84%)\n",
      "\n"
     ]
    }
   ],
   "source": [
    "optimizer = optim.Adam(model.parameters(), lr=0.01)\n",
    "scheduler = ReduceLROnPlateau(\n",
    "    optimizer,\n",
    "    mode=\"max\",\n",
    "    factor=0.1,\n",
    "    patience=2,\n",
    "    verbose=True,\n",
    "    min_lr=1e-6,\n",
    ")\n",
    "\n",
    "for epoch in range(1, 16):\n",
    "    print(f\"********* Epoch = {epoch} *********\")\n",
    "    train(model, device, train_loader, optimizer, epoch)\n",
    "    _, acc = test(model, device, test_loader)\n",
    "    scheduler.step(acc)"
   ]
  },
  {
   "cell_type": "code",
   "execution_count": 17,
   "metadata": {},
   "outputs": [
    {
     "data": {
      "text/plain": [
       "[0.001]"
      ]
     },
     "execution_count": 17,
     "metadata": {},
     "output_type": "execute_result"
    }
   ],
   "source": [
    "scheduler.get_last_lr()"
   ]
  },
  {
   "cell_type": "markdown",
   "metadata": {},
   "source": [
    "#### Observations\n",
    "- Max Train accuracy: 99.20% (Epoch 13)\n",
    "- Max Test accuracy: 99.06% (Epoch 12)\n",
    "- Model has reached max accuracy of 99.20% on training data but it is still long way behind 99.4% mark\n",
    "- There is a significant gap between train and test accuracy\n"
   ]
  },
  {
   "cell_type": "code",
   "execution_count": null,
   "metadata": {},
   "outputs": [],
   "source": []
  }
 ],
 "metadata": {
  "kernelspec": {
   "display_name": "era_dl_env",
   "language": "python",
   "name": "python3"
  },
  "language_info": {
   "codemirror_mode": {
    "name": "ipython",
    "version": 3
   },
   "file_extension": ".py",
   "mimetype": "text/x-python",
   "name": "python",
   "nbconvert_exporter": "python",
   "pygments_lexer": "ipython3",
   "version": "3.10.15"
  }
 },
 "nbformat": 4,
 "nbformat_minor": 2
}
