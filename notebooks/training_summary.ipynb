{
 "cells": [
  {
   "cell_type": "code",
   "execution_count": 4,
   "metadata": {},
   "outputs": [],
   "source": [
    "from __future__ import print_function\n",
    "import torch\n",
    "import torch.nn as nn\n",
    "import torch.nn.functional as F\n",
    "import torch.optim as optim\n",
    "from torchvision import datasets, transforms\n",
    "from torch.optim.lr_scheduler import ReduceLROnPlateau\n",
    "import random\n",
    "import matplotlib.pyplot as plt\n",
    "from torchsummary import summary\n",
    "import os"
   ]
  },
  {
   "cell_type": "code",
   "execution_count": null,
   "metadata": {},
   "outputs": [],
   "source": [
    "# os.getcwd()\n",
    "# os.chdir(\"/Users/aditya/Documents/self_learning/ERA V3/week 7/micro_cnn\")"
   ]
  },
  {
   "cell_type": "markdown",
   "metadata": {},
   "source": [
    "### Functions & utilities"
   ]
  },
  {
   "cell_type": "code",
   "execution_count": 6,
   "metadata": {},
   "outputs": [],
   "source": [
    "from src.utils import plot_random_mnist_images"
   ]
  },
  {
   "cell_type": "code",
   "execution_count": 7,
   "metadata": {},
   "outputs": [],
   "source": [
    "from tqdm import tqdm\n",
    "import torch.nn.functional as F\n",
    "\n",
    "def train(model, device, train_loader, optimizer, epoch):\n",
    "    model.train()\n",
    "    train_loss = 0\n",
    "    correct = 0\n",
    "    total = 0\n",
    "    pbar = tqdm(train_loader)\n",
    "\n",
    "    for batch_idx, (data, target) in enumerate(pbar):\n",
    "        data, target = data.to(device), target.to(device)\n",
    "        optimizer.zero_grad()\n",
    "        output = model(data)\n",
    "        \n",
    "        # Compute loss\n",
    "        loss = F.nll_loss(output, target)\n",
    "        train_loss += loss.item() * data.size(0)  # accumulate batch loss\n",
    "        \n",
    "        # Backward pass and optimizer step\n",
    "        loss.backward()\n",
    "        optimizer.step()\n",
    "        \n",
    "        # Compute accuracy\n",
    "        pred = output.argmax(dim=1, keepdim=True)\n",
    "        correct += pred.eq(target.view_as(pred)).sum().item()\n",
    "        total += target.size(0)\n",
    "\n",
    "        # Update progress bar\n",
    "        pbar.set_description(desc=f\"loss={loss.item():.4f} batch_id={batch_idx}\")\n",
    "\n",
    "    # Compute average loss and accuracy for the epoch\n",
    "    avg_loss = train_loss / len(train_loader.dataset)\n",
    "    accuracy = 100.0 * correct / total\n",
    "\n",
    "    print(f\"\\nEpoch {epoch}: Train set: Average loss: {avg_loss:.4f}, Accuracy: {correct}/{total} ({accuracy:.2f}%)\\n\")\n",
    "    return avg_loss, accuracy\n",
    "\n",
    "\n",
    "def test(model, device, test_loader):\n",
    "    model.eval()\n",
    "    test_loss = 0\n",
    "    correct = 0\n",
    "\n",
    "    with torch.no_grad():\n",
    "        for data, target in test_loader:\n",
    "            data, target = data.to(device), target.to(device)\n",
    "            output = model(data)\n",
    "            \n",
    "            # Compute loss\n",
    "            test_loss += F.nll_loss(output, target, reduction=\"sum\").item()\n",
    "            \n",
    "            # Compute accuracy\n",
    "            pred = output.argmax(dim=1, keepdim=True)\n",
    "            correct += pred.eq(target.view_as(pred)).sum().item()\n",
    "\n",
    "    # Compute average loss and accuracy for the test set\n",
    "    test_loss /= len(test_loader.dataset)\n",
    "    accuracy = 100.0 * correct / len(test_loader.dataset)\n",
    "\n",
    "    print(\n",
    "        \"\\nTest set: Average loss: {:.4f}, Accuracy: {}/{} ({:.2f}%)\\n\".format(\n",
    "            test_loss, correct, len(test_loader.dataset), accuracy\n",
    "        )\n",
    "    )\n",
    "    return test_loss, accuracy"
   ]
  },
  {
   "cell_type": "code",
   "execution_count": 8,
   "metadata": {},
   "outputs": [
    {
     "name": "stdout",
     "output_type": "stream",
     "text": [
      "cpu\n"
     ]
    }
   ],
   "source": [
    "## Checking if CUDA is available\n",
    "use_cuda = torch.cuda.is_available()\n",
    "device = torch.device(\"cuda\" if use_cuda else \"cpu\")\n",
    "print(device)"
   ]
  },
  {
   "cell_type": "code",
   "execution_count": 9,
   "metadata": {},
   "outputs": [
    {
     "data": {
      "text/plain": [
       "8"
      ]
     },
     "execution_count": 9,
     "metadata": {},
     "output_type": "execute_result"
    }
   ],
   "source": [
    "## Checking number of cores available\n",
    "import multiprocessing\n",
    "multiprocessing.cpu_count()"
   ]
  },
  {
   "cell_type": "markdown",
   "metadata": {},
   "source": [
    "### Loading MNIST data"
   ]
  },
  {
   "cell_type": "code",
   "execution_count": 10,
   "metadata": {},
   "outputs": [],
   "source": [
    "torch.manual_seed(42)\n",
    "if device == 'cuda':\n",
    "    torch.cuda.manual_seed(42)\n",
    "batch_size = 512\n",
    "kwargs = {'num_workers': 8, 'pin_memory': True} if use_cuda else {}\n",
    "train_loader = torch.utils.data.DataLoader(\n",
    "    datasets.MNIST('../data', train=True, download=True,\n",
    "                    transform=transforms.Compose([\n",
    "                        transforms.ToTensor(),\n",
    "                        transforms.Normalize((0.1307,), (0.3081,)),\n",
    "                    ])),\n",
    "    batch_size=batch_size, shuffle=True, **kwargs)\n",
    "test_loader = torch.utils.data.DataLoader(\n",
    "    datasets.MNIST('../data', train=False, transform=transforms.Compose([\n",
    "                        transforms.ToTensor(),\n",
    "                        transforms.Normalize((0.1307,), (0.3081,))\n",
    "                    ])),\n",
    "    batch_size=batch_size, shuffle=True, **kwargs)"
   ]
  },
  {
   "cell_type": "markdown",
   "metadata": {},
   "source": [
    "### Creating Base Model\n",
    "- Aim in this step is to create a based model first which adhere to the constraints of less than 8k parametes\n",
    "- No major data transformation is used except for normalization\n",
    "- We will closely monitor the train and test accuracy and loss to understand the model performance\n",
    "- In assignment 6 we observed one key point around **LR schedueler**. It significantly **improves the training loss convergence**. We will use the same here"
   ]
  },
  {
   "cell_type": "code",
   "execution_count": 13,
   "metadata": {},
   "outputs": [],
   "source": [
    "from src.model import MiniCNN_1"
   ]
  },
  {
   "cell_type": "code",
   "execution_count": 15,
   "metadata": {},
   "outputs": [
    {
     "name": "stdout",
     "output_type": "stream",
     "text": [
      "----------------------------------------------------------------\n",
      "        Layer (type)               Output Shape         Param #\n",
      "================================================================\n",
      "            Conv2d-1            [-1, 8, 28, 28]              72\n",
      "              ReLU-2            [-1, 8, 28, 28]               0\n",
      "            Conv2d-3            [-1, 8, 28, 28]             576\n",
      "              ReLU-4            [-1, 8, 28, 28]               0\n",
      "            Conv2d-5            [-1, 8, 28, 28]             576\n",
      "              ReLU-6            [-1, 8, 28, 28]               0\n",
      "         MaxPool2d-7            [-1, 8, 14, 14]               0\n",
      "            Conv2d-8            [-1, 4, 14, 14]              32\n",
      "            Conv2d-9            [-1, 8, 14, 14]             288\n",
      "             ReLU-10            [-1, 8, 14, 14]               0\n",
      "           Conv2d-11           [-1, 16, 14, 14]           1,152\n",
      "             ReLU-12           [-1, 16, 14, 14]               0\n",
      "           Conv2d-13           [-1, 16, 14, 14]           2,304\n",
      "             ReLU-14           [-1, 16, 14, 14]               0\n",
      "        MaxPool2d-15             [-1, 16, 7, 7]               0\n",
      "           Conv2d-16              [-1, 4, 7, 7]              64\n",
      "           Linear-17                   [-1, 10]           1,970\n",
      "================================================================\n",
      "Total params: 7,034\n",
      "Trainable params: 7,034\n",
      "Non-trainable params: 0\n",
      "----------------------------------------------------------------\n",
      "Input size (MB): 0.00\n",
      "Forward/backward pass size (MB): 0.43\n",
      "Params size (MB): 0.03\n",
      "Estimated Total Size (MB): 0.46\n",
      "----------------------------------------------------------------\n"
     ]
    }
   ],
   "source": [
    "model = MiniCNN_1().to(device)\n",
    "summary(model, input_size=(1, 28, 28))"
   ]
  },
  {
   "cell_type": "markdown",
   "metadata": {},
   "source": [
    "#### Layerwise Details\n",
    "\n",
    "| Layer | Input Size | Output Size | Receptive Field | Jump In | Jump Out |\n",
    "|-------|------------|-------------|-----------------|----------|-----------|\n",
    "| Conv1 | 28x28x1 | 28x28x8 | 3 | 1 | 1 |\n",
    "| Conv2 | 28x28x8 | 28x28x8 | 5 | 1 | 1 |\n",
    "| Conv3 | 28x28x8 | 28x28x8 | 7 | 1 | 1 |\n",
    "| MaxPool1 | 28x28x8 | 14x14x8 | 8 | 1 | 2 |\n",
    "| Transition-Conv1 | 14x14x8 | 14x14x4 | 8 | 2 | 2 |\n",
    "| Conv4 | 14x14x4 | 14x14x8 | 12 | 2 | 2 |\n",
    "| Conv5 | 14x14x8 | 14x14x16 | 16 | 2 | 2 |\n",
    "| Conv6 | 14x14x16 | 14x14x16 | 20 | 2 | 2 |\n",
    "| MaxPool2 | 14x14x16 | 7x7x16 | 21 | 2 | 4 |\n",
    "| Transition-Conv1 | 7x7x16 | 7x7x3 | 21 | 4 | 4 |\n",
    "| FC | 7x7x3 | 10 | - | - | - |\n"
   ]
  },
  {
   "cell_type": "code",
   "execution_count": 16,
   "metadata": {},
   "outputs": [
    {
     "name": "stderr",
     "output_type": "stream",
     "text": [
      "/Users/aditya/miniconda3/envs/era_dl_env/lib/python3.10/site-packages/torch/optim/lr_scheduler.py:28: UserWarning: The verbose parameter is deprecated. Please use get_last_lr() to access the learning rate.\n",
      "  warnings.warn(\"The verbose parameter is deprecated. Please use get_last_lr() \"\n"
     ]
    },
    {
     "name": "stdout",
     "output_type": "stream",
     "text": [
      "********* Epoch = 1 *********\n"
     ]
    },
    {
     "name": "stderr",
     "output_type": "stream",
     "text": [
      "loss=0.1123 batch_id=117: 100%|██████████| 118/118 [00:21<00:00,  5.40it/s]\n"
     ]
    },
    {
     "name": "stdout",
     "output_type": "stream",
     "text": [
      "\n",
      "Epoch 1: Train set: Average loss: 0.4793, Accuracy: 50720/60000 (84.53%)\n",
      "\n",
      "\n",
      "Test set: Average loss: 0.0884, Accuracy: 9699/10000 (96.99%)\n",
      "\n",
      "********* Epoch = 2 *********\n"
     ]
    },
    {
     "name": "stderr",
     "output_type": "stream",
     "text": [
      "loss=0.0897 batch_id=117: 100%|██████████| 118/118 [00:21<00:00,  5.40it/s]\n"
     ]
    },
    {
     "name": "stdout",
     "output_type": "stream",
     "text": [
      "\n",
      "Epoch 2: Train set: Average loss: 0.0841, Accuracy: 58471/60000 (97.45%)\n",
      "\n",
      "\n",
      "Test set: Average loss: 0.0583, Accuracy: 9810/10000 (98.10%)\n",
      "\n",
      "********* Epoch = 3 *********\n"
     ]
    },
    {
     "name": "stderr",
     "output_type": "stream",
     "text": [
      "loss=0.0231 batch_id=117: 100%|██████████| 118/118 [00:21<00:00,  5.37it/s]\n"
     ]
    },
    {
     "name": "stdout",
     "output_type": "stream",
     "text": [
      "\n",
      "Epoch 3: Train set: Average loss: 0.0652, Accuracy: 58801/60000 (98.00%)\n",
      "\n",
      "\n",
      "Test set: Average loss: 0.0518, Accuracy: 9839/10000 (98.39%)\n",
      "\n",
      "********* Epoch = 4 *********\n"
     ]
    },
    {
     "name": "stderr",
     "output_type": "stream",
     "text": [
      "loss=0.1406 batch_id=117: 100%|██████████| 118/118 [00:23<00:00,  5.10it/s]\n"
     ]
    },
    {
     "name": "stdout",
     "output_type": "stream",
     "text": [
      "\n",
      "Epoch 4: Train set: Average loss: 0.0543, Accuracy: 59012/60000 (98.35%)\n",
      "\n",
      "\n",
      "Test set: Average loss: 0.0370, Accuracy: 9871/10000 (98.71%)\n",
      "\n",
      "********* Epoch = 5 *********\n"
     ]
    },
    {
     "name": "stderr",
     "output_type": "stream",
     "text": [
      "loss=0.0267 batch_id=117: 100%|██████████| 118/118 [00:23<00:00,  5.08it/s]\n"
     ]
    },
    {
     "name": "stdout",
     "output_type": "stream",
     "text": [
      "\n",
      "Epoch 5: Train set: Average loss: 0.0457, Accuracy: 59178/60000 (98.63%)\n",
      "\n",
      "\n",
      "Test set: Average loss: 0.0376, Accuracy: 9867/10000 (98.67%)\n",
      "\n",
      "********* Epoch = 6 *********\n"
     ]
    },
    {
     "name": "stderr",
     "output_type": "stream",
     "text": [
      "loss=0.0315 batch_id=117: 100%|██████████| 118/118 [00:23<00:00,  5.00it/s]\n"
     ]
    },
    {
     "name": "stdout",
     "output_type": "stream",
     "text": [
      "\n",
      "Epoch 6: Train set: Average loss: 0.0402, Accuracy: 59227/60000 (98.71%)\n",
      "\n",
      "\n",
      "Test set: Average loss: 0.0568, Accuracy: 9817/10000 (98.17%)\n",
      "\n",
      "********* Epoch = 7 *********\n"
     ]
    },
    {
     "name": "stderr",
     "output_type": "stream",
     "text": [
      "loss=0.0690 batch_id=117: 100%|██████████| 118/118 [00:23<00:00,  4.95it/s]\n"
     ]
    },
    {
     "name": "stdout",
     "output_type": "stream",
     "text": [
      "\n",
      "Epoch 7: Train set: Average loss: 0.0363, Accuracy: 59305/60000 (98.84%)\n",
      "\n",
      "\n",
      "Test set: Average loss: 0.0427, Accuracy: 9874/10000 (98.74%)\n",
      "\n",
      "********* Epoch = 8 *********\n"
     ]
    },
    {
     "name": "stderr",
     "output_type": "stream",
     "text": [
      "loss=0.0153 batch_id=117: 100%|██████████| 118/118 [00:23<00:00,  4.93it/s]\n"
     ]
    },
    {
     "name": "stdout",
     "output_type": "stream",
     "text": [
      "\n",
      "Epoch 8: Train set: Average loss: 0.0367, Accuracy: 59333/60000 (98.89%)\n",
      "\n",
      "\n",
      "Test set: Average loss: 0.0384, Accuracy: 9873/10000 (98.73%)\n",
      "\n",
      "********* Epoch = 9 *********\n"
     ]
    },
    {
     "name": "stderr",
     "output_type": "stream",
     "text": [
      "loss=0.0154 batch_id=117: 100%|██████████| 118/118 [00:24<00:00,  4.85it/s]\n"
     ]
    },
    {
     "name": "stdout",
     "output_type": "stream",
     "text": [
      "\n",
      "Epoch 9: Train set: Average loss: 0.0337, Accuracy: 59375/60000 (98.96%)\n",
      "\n",
      "\n",
      "Test set: Average loss: 0.0444, Accuracy: 9858/10000 (98.58%)\n",
      "\n",
      "********* Epoch = 10 *********\n"
     ]
    },
    {
     "name": "stderr",
     "output_type": "stream",
     "text": [
      "loss=0.0037 batch_id=117: 100%|██████████| 118/118 [00:24<00:00,  4.85it/s]\n"
     ]
    },
    {
     "name": "stdout",
     "output_type": "stream",
     "text": [
      "\n",
      "Epoch 10: Train set: Average loss: 0.0291, Accuracy: 59439/60000 (99.06%)\n",
      "\n",
      "\n",
      "Test set: Average loss: 0.0424, Accuracy: 9875/10000 (98.75%)\n",
      "\n",
      "********* Epoch = 11 *********\n"
     ]
    },
    {
     "name": "stderr",
     "output_type": "stream",
     "text": [
      "loss=0.0116 batch_id=117: 100%|██████████| 118/118 [00:24<00:00,  4.84it/s]\n"
     ]
    },
    {
     "name": "stdout",
     "output_type": "stream",
     "text": [
      "\n",
      "Epoch 11: Train set: Average loss: 0.0279, Accuracy: 59461/60000 (99.10%)\n",
      "\n",
      "\n",
      "Test set: Average loss: 0.0413, Accuracy: 9877/10000 (98.77%)\n",
      "\n",
      "********* Epoch = 12 *********\n"
     ]
    },
    {
     "name": "stderr",
     "output_type": "stream",
     "text": [
      "loss=0.0253 batch_id=117: 100%|██████████| 118/118 [00:24<00:00,  4.80it/s]\n"
     ]
    },
    {
     "name": "stdout",
     "output_type": "stream",
     "text": [
      "\n",
      "Epoch 12: Train set: Average loss: 0.0291, Accuracy: 59444/60000 (99.07%)\n",
      "\n",
      "\n",
      "Test set: Average loss: 0.0332, Accuracy: 9906/10000 (99.06%)\n",
      "\n",
      "********* Epoch = 13 *********\n"
     ]
    },
    {
     "name": "stderr",
     "output_type": "stream",
     "text": [
      "loss=0.0024 batch_id=117: 100%|██████████| 118/118 [00:24<00:00,  4.80it/s]\n"
     ]
    },
    {
     "name": "stdout",
     "output_type": "stream",
     "text": [
      "\n",
      "Epoch 13: Train set: Average loss: 0.0253, Accuracy: 59521/60000 (99.20%)\n",
      "\n",
      "\n",
      "Test set: Average loss: 0.0413, Accuracy: 9874/10000 (98.74%)\n",
      "\n",
      "********* Epoch = 14 *********\n"
     ]
    },
    {
     "name": "stderr",
     "output_type": "stream",
     "text": [
      "loss=0.0757 batch_id=117: 100%|██████████| 118/118 [00:24<00:00,  4.79it/s]\n"
     ]
    },
    {
     "name": "stdout",
     "output_type": "stream",
     "text": [
      "\n",
      "Epoch 14: Train set: Average loss: 0.0274, Accuracy: 59452/60000 (99.09%)\n",
      "\n",
      "\n",
      "Test set: Average loss: 0.0491, Accuracy: 9856/10000 (98.56%)\n",
      "\n",
      "********* Epoch = 15 *********\n"
     ]
    },
    {
     "name": "stderr",
     "output_type": "stream",
     "text": [
      "loss=0.0372 batch_id=117: 100%|██████████| 118/118 [00:24<00:00,  4.80it/s]\n"
     ]
    },
    {
     "name": "stdout",
     "output_type": "stream",
     "text": [
      "\n",
      "Epoch 15: Train set: Average loss: 0.0281, Accuracy: 59467/60000 (99.11%)\n",
      "\n",
      "\n",
      "Test set: Average loss: 0.0402, Accuracy: 9884/10000 (98.84%)\n",
      "\n"
     ]
    }
   ],
   "source": [
    "optimizer = optim.Adam(model.parameters(), lr=0.01)\n",
    "scheduler = ReduceLROnPlateau(\n",
    "    optimizer,\n",
    "    mode=\"max\",\n",
    "    factor=0.1,\n",
    "    patience=2,\n",
    "    verbose=True,\n",
    "    min_lr=1e-6,\n",
    ")\n",
    "\n",
    "for epoch in range(1, 16):\n",
    "    print(f\"********* Epoch = {epoch} *********\")\n",
    "    train(model, device, train_loader, optimizer, epoch)\n",
    "    _, acc = test(model, device, test_loader)\n",
    "    scheduler.step(acc)"
   ]
  },
  {
   "cell_type": "code",
   "execution_count": 17,
   "metadata": {},
   "outputs": [
    {
     "data": {
      "text/plain": [
       "[0.001]"
      ]
     },
     "execution_count": 17,
     "metadata": {},
     "output_type": "execute_result"
    }
   ],
   "source": [
    "scheduler.get_last_lr()"
   ]
  },
  {
   "cell_type": "markdown",
   "metadata": {},
   "source": [
    "#### Observations\n",
    "- Max Train accuracy: 99.20% (Epoch 13)\n",
    "- Max Test accuracy: 99.06% (Epoch 12)\n",
    "- Model has reached max accuracy of 99.20% on training data but it is still long way behind 99.4% mark\n",
    "- There is a significant gap between train and test accuracy\n",
    "- Test accuracy is varying a lot epoch over epoch\n"
   ]
  },
  {
   "cell_type": "markdown",
   "metadata": {},
   "source": [
    "### Creating Bigger Model\n",
    "- We have not done any data augmentation in the previous model and still the training performance is way behind the desired 99.4% mark\n",
    "- We will now try to increase the model complexity by adding more parameters while still adhering to the parameter constraint.\n",
    "- Aim is to see what is maximum level of training accuracy we can achieve and what is the gap between train and test accuracy.\n",
    "- We will also start with a lower learning rate in aim to overcome the fluctuations in the test accuracy over epochs"
   ]
  },
  {
   "cell_type": "code",
   "execution_count": 18,
   "metadata": {},
   "outputs": [],
   "source": [
    "from src.model import MiniCNN_2"
   ]
  },
  {
   "cell_type": "code",
   "execution_count": 19,
   "metadata": {},
   "outputs": [
    {
     "name": "stdout",
     "output_type": "stream",
     "text": [
      "----------------------------------------------------------------\n",
      "        Layer (type)               Output Shape         Param #\n",
      "================================================================\n",
      "            Conv2d-1            [-1, 8, 28, 28]              72\n",
      "              ReLU-2            [-1, 8, 28, 28]               0\n",
      "            Conv2d-3            [-1, 8, 28, 28]             576\n",
      "              ReLU-4            [-1, 8, 28, 28]               0\n",
      "            Conv2d-5           [-1, 16, 28, 28]           1,152\n",
      "              ReLU-6           [-1, 16, 28, 28]               0\n",
      "         MaxPool2d-7           [-1, 16, 14, 14]               0\n",
      "            Conv2d-8            [-1, 8, 14, 14]             128\n",
      "            Conv2d-9            [-1, 8, 14, 14]             576\n",
      "             ReLU-10            [-1, 8, 14, 14]               0\n",
      "           Conv2d-11           [-1, 16, 14, 14]           1,152\n",
      "             ReLU-12           [-1, 16, 14, 14]               0\n",
      "           Conv2d-13           [-1, 16, 14, 14]           2,304\n",
      "             ReLU-14           [-1, 16, 14, 14]               0\n",
      "        MaxPool2d-15             [-1, 16, 7, 7]               0\n",
      "           Conv2d-16              [-1, 4, 7, 7]              64\n",
      "           Linear-17                   [-1, 10]           1,970\n",
      "================================================================\n",
      "Total params: 7,994\n",
      "Trainable params: 7,994\n",
      "Non-trainable params: 0\n",
      "----------------------------------------------------------------\n",
      "Input size (MB): 0.00\n",
      "Forward/backward pass size (MB): 0.55\n",
      "Params size (MB): 0.03\n",
      "Estimated Total Size (MB): 0.58\n",
      "----------------------------------------------------------------\n"
     ]
    }
   ],
   "source": [
    "model = MiniCNN_2().to(device)\n",
    "summary(model, input_size=(1, 28, 28))"
   ]
  },
  {
   "cell_type": "markdown",
   "metadata": {},
   "source": [
    "#### Layerwise Details\n",
    "\n",
    "| Layer | Input Size | Output Size | Receptive Field | Jump In | Jump Out |\n",
    "|-------|------------|-------------|-----------------|----------|-----------|\n",
    "| Conv1 | 28x28x1 | 28x28x8 | 3 | 1 | 1 |\n",
    "| Conv2 | 28x28x8 | 28x28x8 | 5 | 1 | 1 |\n",
    "| Conv3 | 28x28x8 | 28x28x16 | 7 | 1 | 1 |\n",
    "| MaxPool1 | 28x28x16 | 14x14x16 | 8 | 1 | 2 |\n",
    "| Transition-Conv1 | 14x14x16 | 14x14x8 | 8 | 2 | 2 |\n",
    "| Conv4 | 14x14x8 | 14x14x8 | 12 | 2 | 2 |\n",
    "| Conv5 | 14x14x8 | 14x14x16 | 16 | 2 | 2 |\n",
    "| Conv6 | 14x14x16 | 14x14x16 | 20 | 2 | 2 |\n",
    "| MaxPool2 | 14x14x16 | 7x7x16 | 21 | 2 | 4 |\n",
    "| Transition-Conv1 | 7x7x16 | 7x7x4 | 21 | 4 | 4 |\n",
    "| FC | 7x7x4 | 10 | - | - | - |\n"
   ]
  },
  {
   "cell_type": "code",
   "execution_count": 21,
   "metadata": {},
   "outputs": [
    {
     "name": "stdout",
     "output_type": "stream",
     "text": [
      "********* Epoch = 1 *********\n"
     ]
    },
    {
     "name": "stderr",
     "output_type": "stream",
     "text": [
      "loss=0.0088 batch_id=117: 100%|██████████| 118/118 [00:24<00:00,  4.88it/s]\n"
     ]
    },
    {
     "name": "stdout",
     "output_type": "stream",
     "text": [
      "\n",
      "Epoch 1: Train set: Average loss: 0.0116, Accuracy: 59797/60000 (99.66%)\n",
      "\n",
      "\n",
      "Test set: Average loss: 0.0283, Accuracy: 9918/10000 (99.18%)\n",
      "\n",
      "********* Epoch = 2 *********\n"
     ]
    },
    {
     "name": "stderr",
     "output_type": "stream",
     "text": [
      "loss=0.0296 batch_id=117: 100%|██████████| 118/118 [00:23<00:00,  4.96it/s]\n"
     ]
    },
    {
     "name": "stdout",
     "output_type": "stream",
     "text": [
      "\n",
      "Epoch 2: Train set: Average loss: 0.0077, Accuracy: 59862/60000 (99.77%)\n",
      "\n",
      "\n",
      "Test set: Average loss: 0.0306, Accuracy: 9916/10000 (99.16%)\n",
      "\n",
      "********* Epoch = 3 *********\n"
     ]
    },
    {
     "name": "stderr",
     "output_type": "stream",
     "text": [
      "loss=0.0032 batch_id=117: 100%|██████████| 118/118 [00:24<00:00,  4.73it/s]\n"
     ]
    },
    {
     "name": "stdout",
     "output_type": "stream",
     "text": [
      "\n",
      "Epoch 3: Train set: Average loss: 0.0060, Accuracy: 59902/60000 (99.84%)\n",
      "\n",
      "\n",
      "Test set: Average loss: 0.0330, Accuracy: 9914/10000 (99.14%)\n",
      "\n",
      "********* Epoch = 4 *********\n"
     ]
    },
    {
     "name": "stderr",
     "output_type": "stream",
     "text": [
      "loss=0.0132 batch_id=117: 100%|██████████| 118/118 [00:25<00:00,  4.54it/s]\n"
     ]
    },
    {
     "name": "stdout",
     "output_type": "stream",
     "text": [
      "\n",
      "Epoch 4: Train set: Average loss: 0.0048, Accuracy: 59922/60000 (99.87%)\n",
      "\n",
      "\n",
      "Test set: Average loss: 0.0334, Accuracy: 9910/10000 (99.10%)\n",
      "\n",
      "********* Epoch = 5 *********\n"
     ]
    },
    {
     "name": "stderr",
     "output_type": "stream",
     "text": [
      "loss=0.0022 batch_id=117: 100%|██████████| 118/118 [00:26<00:00,  4.48it/s]\n"
     ]
    },
    {
     "name": "stdout",
     "output_type": "stream",
     "text": [
      "\n",
      "Epoch 5: Train set: Average loss: 0.0029, Accuracy: 59958/60000 (99.93%)\n",
      "\n",
      "\n",
      "Test set: Average loss: 0.0330, Accuracy: 9917/10000 (99.17%)\n",
      "\n",
      "********* Epoch = 6 *********\n"
     ]
    },
    {
     "name": "stderr",
     "output_type": "stream",
     "text": [
      "loss=0.0001 batch_id=117: 100%|██████████| 118/118 [00:27<00:00,  4.37it/s]\n"
     ]
    },
    {
     "name": "stdout",
     "output_type": "stream",
     "text": [
      "\n",
      "Epoch 6: Train set: Average loss: 0.0025, Accuracy: 59970/60000 (99.95%)\n",
      "\n",
      "\n",
      "Test set: Average loss: 0.0340, Accuracy: 9914/10000 (99.14%)\n",
      "\n",
      "********* Epoch = 7 *********\n"
     ]
    },
    {
     "name": "stderr",
     "output_type": "stream",
     "text": [
      "loss=0.0022 batch_id=117: 100%|██████████| 118/118 [00:27<00:00,  4.26it/s]\n"
     ]
    },
    {
     "name": "stdout",
     "output_type": "stream",
     "text": [
      "\n",
      "Epoch 7: Train set: Average loss: 0.0023, Accuracy: 59975/60000 (99.96%)\n",
      "\n",
      "\n",
      "Test set: Average loss: 0.0348, Accuracy: 9914/10000 (99.14%)\n",
      "\n",
      "********* Epoch = 8 *********\n"
     ]
    },
    {
     "name": "stderr",
     "output_type": "stream",
     "text": [
      "loss=0.0134 batch_id=117: 100%|██████████| 118/118 [00:27<00:00,  4.33it/s]\n"
     ]
    },
    {
     "name": "stdout",
     "output_type": "stream",
     "text": [
      "\n",
      "Epoch 8: Train set: Average loss: 0.0020, Accuracy: 59978/60000 (99.96%)\n",
      "\n",
      "\n",
      "Test set: Average loss: 0.0348, Accuracy: 9914/10000 (99.14%)\n",
      "\n",
      "********* Epoch = 9 *********\n"
     ]
    },
    {
     "name": "stderr",
     "output_type": "stream",
     "text": [
      "loss=0.0001 batch_id=117: 100%|██████████| 118/118 [00:27<00:00,  4.34it/s]\n"
     ]
    },
    {
     "name": "stdout",
     "output_type": "stream",
     "text": [
      "\n",
      "Epoch 9: Train set: Average loss: 0.0020, Accuracy: 59979/60000 (99.97%)\n",
      "\n",
      "\n",
      "Test set: Average loss: 0.0349, Accuracy: 9914/10000 (99.14%)\n",
      "\n",
      "********* Epoch = 10 *********\n"
     ]
    },
    {
     "name": "stderr",
     "output_type": "stream",
     "text": [
      "loss=0.0001 batch_id=117: 100%|██████████| 118/118 [00:27<00:00,  4.28it/s]\n"
     ]
    },
    {
     "name": "stdout",
     "output_type": "stream",
     "text": [
      "\n",
      "Epoch 10: Train set: Average loss: 0.0020, Accuracy: 59981/60000 (99.97%)\n",
      "\n",
      "\n",
      "Test set: Average loss: 0.0350, Accuracy: 9914/10000 (99.14%)\n",
      "\n",
      "********* Epoch = 11 *********\n"
     ]
    },
    {
     "name": "stderr",
     "output_type": "stream",
     "text": [
      "loss=0.0016 batch_id=117: 100%|██████████| 118/118 [00:27<00:00,  4.31it/s]\n"
     ]
    },
    {
     "name": "stdout",
     "output_type": "stream",
     "text": [
      "\n",
      "Epoch 11: Train set: Average loss: 0.0020, Accuracy: 59982/60000 (99.97%)\n",
      "\n",
      "\n",
      "Test set: Average loss: 0.0350, Accuracy: 9914/10000 (99.14%)\n",
      "\n",
      "********* Epoch = 12 *********\n"
     ]
    },
    {
     "name": "stderr",
     "output_type": "stream",
     "text": [
      "loss=0.0001 batch_id=117: 100%|██████████| 118/118 [00:27<00:00,  4.33it/s]\n"
     ]
    },
    {
     "name": "stdout",
     "output_type": "stream",
     "text": [
      "\n",
      "Epoch 12: Train set: Average loss: 0.0020, Accuracy: 59982/60000 (99.97%)\n",
      "\n",
      "\n",
      "Test set: Average loss: 0.0350, Accuracy: 9914/10000 (99.14%)\n",
      "\n",
      "********* Epoch = 13 *********\n"
     ]
    },
    {
     "name": "stderr",
     "output_type": "stream",
     "text": [
      "loss=0.0011 batch_id=117: 100%|██████████| 118/118 [00:27<00:00,  4.28it/s]\n"
     ]
    },
    {
     "name": "stdout",
     "output_type": "stream",
     "text": [
      "\n",
      "Epoch 13: Train set: Average loss: 0.0020, Accuracy: 59982/60000 (99.97%)\n",
      "\n",
      "\n",
      "Test set: Average loss: 0.0350, Accuracy: 9914/10000 (99.14%)\n",
      "\n",
      "********* Epoch = 14 *********\n"
     ]
    },
    {
     "name": "stderr",
     "output_type": "stream",
     "text": [
      "loss=0.0001 batch_id=117: 100%|██████████| 118/118 [00:28<00:00,  4.20it/s]\n"
     ]
    },
    {
     "name": "stdout",
     "output_type": "stream",
     "text": [
      "\n",
      "Epoch 14: Train set: Average loss: 0.0020, Accuracy: 59982/60000 (99.97%)\n",
      "\n",
      "\n",
      "Test set: Average loss: 0.0351, Accuracy: 9914/10000 (99.14%)\n",
      "\n",
      "********* Epoch = 15 *********\n"
     ]
    },
    {
     "name": "stderr",
     "output_type": "stream",
     "text": [
      "loss=0.0002 batch_id=117: 100%|██████████| 118/118 [00:28<00:00,  4.08it/s]\n"
     ]
    },
    {
     "name": "stdout",
     "output_type": "stream",
     "text": [
      "\n",
      "Epoch 15: Train set: Average loss: 0.0020, Accuracy: 59982/60000 (99.97%)\n",
      "\n",
      "\n",
      "Test set: Average loss: 0.0351, Accuracy: 9914/10000 (99.14%)\n",
      "\n"
     ]
    }
   ],
   "source": [
    "optimizer = optim.Adam(model.parameters(), lr=0.001)\n",
    "scheduler = ReduceLROnPlateau(\n",
    "    optimizer,\n",
    "    mode=\"max\",\n",
    "    factor=0.1,\n",
    "    patience=2,\n",
    "    verbose=True,\n",
    "    min_lr=1e-6,\n",
    ")\n",
    "\n",
    "for epoch in range(1, 16):\n",
    "    print(f\"********* Epoch = {epoch} *********\")\n",
    "    train(model, device, train_loader, optimizer, epoch)\n",
    "    _, acc = test(model, device, test_loader)\n",
    "    scheduler.step(acc)"
   ]
  },
  {
   "cell_type": "markdown",
   "metadata": {},
   "source": [
    "#### Observations\n",
    "- Max Train accuracy: 99.97% (from Epoch 9 onwards)\n",
    "- Max Test accuracy: 99.18% (Epoch 1)\n",
    "- Model has reached max accuracy of 99.97% on training data. It shows that model is able to learn the training data very well\n",
    "- There is a significant gap between train and test accuracy. This gap is much more than the previous model which indicates it is overfitting heavily\n",
    "- We have managed to overcome the test accuracy fluctuations by reducing the learning rate to 0.001\n"
   ]
  },
  {
   "cell_type": "markdown",
   "metadata": {},
   "source": [
    "## Model for addressing overfitting\n",
    "- Adding data augmentation to the model to address the overfitting issue\n",
    "- We will review some random sample from test data to decide the augmentation strategy\n",
    "- We will also decrease the model size and would add batch normalization in an effort to make stable model and less prone to overfitting"
   ]
  },
  {
   "cell_type": "markdown",
   "metadata": {},
   "source": [
    "#### Adding Data Augmentation\n",
    "Based on the below plot we have decided to do the following data augmentation\n",
    "- Random Rotation: As there are some digits which are slightly rotated\n",
    "- Random Elastic Transformation: As there are some digits which are slightly distorted\n",
    "- Random Erasing: As there are some digits which are incomplete"
   ]
  },
  {
   "cell_type": "code",
   "execution_count": 11,
   "metadata": {},
   "outputs": [
    {
     "data": {
      "image/png": "[encoded data removed]",
      "text/plain": [
       "<Figure size 1000x1000 with 49 Axes>"
      ]
     },
     "metadata": {},
     "output_type": "display_data"
    }
   ],
   "source": [
    "plot_random_mnist_images(test_loader, num_images=49)"
   ]
  },
  {
   "cell_type": "code",
   "execution_count": 12,
   "metadata": {},
   "outputs": [],
   "source": [
    "torch.manual_seed(42)\n",
    "if device == 'cuda':\n",
    "    torch.cuda.manual_seed(42)\n",
    "batch_size = 512\n",
    "kwargs = {'num_workers': 8, 'pin_memory': True} if use_cuda else {}\n",
    "\n",
    "train_loader = torch.utils.data.DataLoader(\n",
    "    datasets.MNIST('../data', train=True, download=True,\n",
    "                    transform=transforms.Compose([\n",
    "                        transforms.ToTensor(),\n",
    "                        transforms.Normalize((0.1307,), (0.3081,)),\n",
    "                        transforms.RandomAffine(\n",
    "                            degrees=10,  # Random rotation up to 10 degrees\n",
    "                        ),                        \n",
    "                        transforms.RandomErasing(p=0.1),\n",
    "                        transforms.ElasticTransform(alpha=34.0, sigma=4.0),\n",
    "                    ])),\n",
    "    batch_size=batch_size, shuffle=True, **kwargs)\n",
    "test_loader = torch.utils.data.DataLoader(\n",
    "    datasets.MNIST('../data', train=False, transform=transforms.Compose([\n",
    "                        transforms.ToTensor(),\n",
    "                        transforms.Normalize((0.1307,), (0.3081,))\n",
    "                    ])),\n",
    "    batch_size=batch_size, shuffle=True, **kwargs)"
   ]
  },
  {
   "cell_type": "code",
   "execution_count": 13,
   "metadata": {},
   "outputs": [],
   "source": [
    "from src.model import MiniCNN_3"
   ]
  },
  {
   "cell_type": "code",
   "execution_count": 14,
   "metadata": {},
   "outputs": [
    {
     "name": "stdout",
     "output_type": "stream",
     "text": [
      "----------------------------------------------------------------\n",
      "        Layer (type)               Output Shape         Param #\n",
      "================================================================\n",
      "            Conv2d-1            [-1, 8, 28, 28]              72\n",
      "       BatchNorm2d-2            [-1, 8, 28, 28]              16\n",
      "              ReLU-3            [-1, 8, 28, 28]               0\n",
      "            Conv2d-4            [-1, 8, 28, 28]             576\n",
      "       BatchNorm2d-5            [-1, 8, 28, 28]              16\n",
      "              ReLU-6            [-1, 8, 28, 28]               0\n",
      "            Conv2d-7           [-1, 16, 28, 28]           1,152\n",
      "       BatchNorm2d-8           [-1, 16, 28, 28]              32\n",
      "              ReLU-9           [-1, 16, 28, 28]               0\n",
      "        MaxPool2d-10           [-1, 16, 14, 14]               0\n",
      "           Conv2d-11            [-1, 8, 14, 14]             128\n",
      "           Conv2d-12            [-1, 8, 14, 14]             576\n",
      "      BatchNorm2d-13            [-1, 8, 14, 14]              16\n",
      "             ReLU-14            [-1, 8, 14, 14]               0\n",
      "           Conv2d-15           [-1, 16, 14, 14]           1,152\n",
      "      BatchNorm2d-16           [-1, 16, 14, 14]              32\n",
      "             ReLU-17           [-1, 16, 14, 14]               0\n",
      "           Conv2d-18           [-1, 16, 14, 14]           2,304\n",
      "      BatchNorm2d-19           [-1, 16, 14, 14]              32\n",
      "             ReLU-20           [-1, 16, 14, 14]               0\n",
      "        MaxPool2d-21             [-1, 16, 7, 7]               0\n",
      "           Conv2d-22              [-1, 3, 7, 7]              48\n",
      "           Linear-23                   [-1, 10]           1,480\n",
      "================================================================\n",
      "Total params: 7,632\n",
      "Trainable params: 7,632\n",
      "Non-trainable params: 0\n",
      "----------------------------------------------------------------\n",
      "Input size (MB): 0.00\n",
      "Forward/backward pass size (MB): 0.80\n",
      "Params size (MB): 0.03\n",
      "Estimated Total Size (MB): 0.83\n",
      "----------------------------------------------------------------\n"
     ]
    }
   ],
   "source": [
    "model = MiniCNN_3().to(device)\n",
    "summary(model, input_size=(1, 28, 28))"
   ]
  },
  {
   "cell_type": "markdown",
   "metadata": {},
   "source": [
    "#### Layerwise Details\n",
    "\n",
    "| Layer | Input Size | Output Size | Receptive Field | Jump In | Jump Out |\n",
    "|-------|------------|-------------|-----------------|----------|-----------|\n",
    "| Conv1 | 28x28x1 | 28x28x8 | 3 | 1 | 1 |\n",
    "| Conv2 | 28x28x8 | 28x28x8 | 5 | 1 | 1 |\n",
    "| Conv3 | 28x28x8 | 28x28x16 | 7 | 1 | 1 |\n",
    "| MaxPool1 | 28x28x16 | 14x14x16 | 8 | 1 | 2 |\n",
    "| Transition-Conv1 | 14x14x16 | 14x14x8 | 8 | 2 | 2 |\n",
    "| Conv4 | 14x14x8 | 14x14x8 | 12 | 2 | 2 |\n",
    "| Conv5 | 14x14x8 | 14x14x16 | 16 | 2 | 2 |\n",
    "| Conv6 | 14x14x16 | 14x14x16 | 20 | 2 | 2 |\n",
    "| MaxPool2 | 14x14x16 | 7x7x16 | 21 | 2 | 4 |\n",
    "| Transition-Conv1 | 7x7x16 | 7x7x3 | 21 | 4 | 4 |\n",
    "| FC | 7x7x3 | 10 | - | - | - |\n"
   ]
  },
  {
   "cell_type": "code",
   "execution_count": 15,
   "metadata": {},
   "outputs": [
    {
     "name": "stderr",
     "output_type": "stream",
     "text": [
      "/Users/aditya/miniconda3/envs/era_dl_env/lib/python3.10/site-packages/torch/optim/lr_scheduler.py:28: UserWarning: The verbose parameter is deprecated. Please use get_last_lr() to access the learning rate.\n",
      "  warnings.warn(\"The verbose parameter is deprecated. Please use get_last_lr() \"\n"
     ]
    },
    {
     "name": "stdout",
     "output_type": "stream",
     "text": [
      "********* Epoch = 1 *********\n"
     ]
    },
    {
     "name": "stderr",
     "output_type": "stream",
     "text": [
      "loss=0.2327 batch_id=117: 100%|██████████| 118/118 [06:02<00:00,  3.07s/it]\n"
     ]
    },
    {
     "name": "stdout",
     "output_type": "stream",
     "text": [
      "\n",
      "Epoch 1: Train set: Average loss: 0.8536, Accuracy: 45171/60000 (75.28%)\n",
      "\n",
      "\n",
      "Test set: Average loss: 0.1262, Accuracy: 9663/10000 (96.63%)\n",
      "\n",
      "********* Epoch = 2 *********\n"
     ]
    },
    {
     "name": "stderr",
     "output_type": "stream",
     "text": [
      "loss=0.1900 batch_id=117: 100%|██████████| 118/118 [06:13<00:00,  3.16s/it]\n"
     ]
    },
    {
     "name": "stdout",
     "output_type": "stream",
     "text": [
      "\n",
      "Epoch 2: Train set: Average loss: 0.2109, Accuracy: 56074/60000 (93.46%)\n",
      "\n",
      "\n",
      "Test set: Average loss: 0.0655, Accuracy: 9793/10000 (97.93%)\n",
      "\n",
      "********* Epoch = 3 *********\n"
     ]
    },
    {
     "name": "stderr",
     "output_type": "stream",
     "text": [
      "loss=0.1827 batch_id=117: 100%|██████████| 118/118 [06:53<00:00,  3.51s/it]\n"
     ]
    },
    {
     "name": "stdout",
     "output_type": "stream",
     "text": [
      "\n",
      "Epoch 3: Train set: Average loss: 0.1561, Accuracy: 56987/60000 (94.98%)\n",
      "\n",
      "\n",
      "Test set: Average loss: 0.0570, Accuracy: 9813/10000 (98.13%)\n",
      "\n",
      "********* Epoch = 4 *********\n"
     ]
    },
    {
     "name": "stderr",
     "output_type": "stream",
     "text": [
      "loss=0.1036 batch_id=117: 100%|██████████| 118/118 [28:39<00:00, 14.57s/it] \n"
     ]
    },
    {
     "name": "stdout",
     "output_type": "stream",
     "text": [
      "\n",
      "Epoch 4: Train set: Average loss: 0.1384, Accuracy: 57288/60000 (95.48%)\n",
      "\n",
      "\n",
      "Test set: Average loss: 0.0550, Accuracy: 9813/10000 (98.13%)\n",
      "\n",
      "********* Epoch = 5 *********\n"
     ]
    },
    {
     "name": "stderr",
     "output_type": "stream",
     "text": [
      "loss=0.0929 batch_id=117: 100%|██████████| 118/118 [06:05<00:00,  3.10s/it]\n"
     ]
    },
    {
     "name": "stdout",
     "output_type": "stream",
     "text": [
      "\n",
      "Epoch 5: Train set: Average loss: 0.1240, Accuracy: 57614/60000 (96.02%)\n",
      "\n",
      "\n",
      "Test set: Average loss: 0.0391, Accuracy: 9873/10000 (98.73%)\n",
      "\n",
      "********* Epoch = 6 *********\n"
     ]
    },
    {
     "name": "stderr",
     "output_type": "stream",
     "text": [
      "loss=0.0966 batch_id=117: 100%|██████████| 118/118 [06:07<00:00,  3.12s/it]\n"
     ]
    },
    {
     "name": "stdout",
     "output_type": "stream",
     "text": [
      "\n",
      "Epoch 6: Train set: Average loss: 0.1141, Accuracy: 57762/60000 (96.27%)\n",
      "\n",
      "\n",
      "Test set: Average loss: 0.0372, Accuracy: 9879/10000 (98.79%)\n",
      "\n",
      "********* Epoch = 7 *********\n"
     ]
    },
    {
     "name": "stderr",
     "output_type": "stream",
     "text": [
      "loss=0.0828 batch_id=117: 100%|██████████| 118/118 [06:09<00:00,  3.13s/it]\n"
     ]
    },
    {
     "name": "stdout",
     "output_type": "stream",
     "text": [
      "\n",
      "Epoch 7: Train set: Average loss: 0.1104, Accuracy: 57847/60000 (96.41%)\n",
      "\n",
      "\n",
      "Test set: Average loss: 0.0318, Accuracy: 9891/10000 (98.91%)\n",
      "\n",
      "********* Epoch = 8 *********\n"
     ]
    },
    {
     "name": "stderr",
     "output_type": "stream",
     "text": [
      "loss=0.1041 batch_id=117: 100%|██████████| 118/118 [06:11<00:00,  3.15s/it]\n"
     ]
    },
    {
     "name": "stdout",
     "output_type": "stream",
     "text": [
      "\n",
      "Epoch 8: Train set: Average loss: 0.1061, Accuracy: 57934/60000 (96.56%)\n",
      "\n",
      "\n",
      "Test set: Average loss: 0.0284, Accuracy: 9913/10000 (99.13%)\n",
      "\n",
      "********* Epoch = 9 *********\n"
     ]
    },
    {
     "name": "stderr",
     "output_type": "stream",
     "text": [
      "loss=0.0894 batch_id=117: 100%|██████████| 118/118 [06:13<00:00,  3.16s/it]\n"
     ]
    },
    {
     "name": "stdout",
     "output_type": "stream",
     "text": [
      "\n",
      "Epoch 9: Train set: Average loss: 0.0995, Accuracy: 58105/60000 (96.84%)\n",
      "\n",
      "\n",
      "Test set: Average loss: 0.0324, Accuracy: 9895/10000 (98.95%)\n",
      "\n",
      "********* Epoch = 10 *********\n"
     ]
    },
    {
     "name": "stderr",
     "output_type": "stream",
     "text": [
      "loss=0.3044 batch_id=117: 100%|██████████| 118/118 [06:14<00:00,  3.17s/it]\n"
     ]
    },
    {
     "name": "stdout",
     "output_type": "stream",
     "text": [
      "\n",
      "Epoch 10: Train set: Average loss: 0.0953, Accuracy: 58149/60000 (96.92%)\n",
      "\n",
      "\n",
      "Test set: Average loss: 0.0250, Accuracy: 9920/10000 (99.20%)\n",
      "\n",
      "********* Epoch = 11 *********\n"
     ]
    },
    {
     "name": "stderr",
     "output_type": "stream",
     "text": [
      "loss=0.0773 batch_id=117: 100%|██████████| 118/118 [06:13<00:00,  3.16s/it]\n"
     ]
    },
    {
     "name": "stdout",
     "output_type": "stream",
     "text": [
      "\n",
      "Epoch 11: Train set: Average loss: 0.0946, Accuracy: 58157/60000 (96.93%)\n",
      "\n",
      "\n",
      "Test set: Average loss: 0.0255, Accuracy: 9922/10000 (99.22%)\n",
      "\n",
      "********* Epoch = 12 *********\n"
     ]
    },
    {
     "name": "stderr",
     "output_type": "stream",
     "text": [
      "loss=0.0670 batch_id=117: 100%|██████████| 118/118 [06:13<00:00,  3.17s/it]\n"
     ]
    },
    {
     "name": "stdout",
     "output_type": "stream",
     "text": [
      "\n",
      "Epoch 12: Train set: Average loss: 0.0926, Accuracy: 58146/60000 (96.91%)\n",
      "\n",
      "\n",
      "Test set: Average loss: 0.0359, Accuracy: 9887/10000 (98.87%)\n",
      "\n",
      "********* Epoch = 13 *********\n"
     ]
    },
    {
     "name": "stderr",
     "output_type": "stream",
     "text": [
      "loss=0.0729 batch_id=117: 100%|██████████| 118/118 [06:15<00:00,  3.18s/it]\n"
     ]
    },
    {
     "name": "stdout",
     "output_type": "stream",
     "text": [
      "\n",
      "Epoch 13: Train set: Average loss: 0.0910, Accuracy: 58234/60000 (97.06%)\n",
      "\n",
      "\n",
      "Test set: Average loss: 0.0258, Accuracy: 9916/10000 (99.16%)\n",
      "\n",
      "********* Epoch = 14 *********\n"
     ]
    },
    {
     "name": "stderr",
     "output_type": "stream",
     "text": [
      "loss=0.1062 batch_id=117: 100%|██████████| 118/118 [06:19<00:00,  3.21s/it]\n"
     ]
    },
    {
     "name": "stdout",
     "output_type": "stream",
     "text": [
      "\n",
      "Epoch 14: Train set: Average loss: 0.0859, Accuracy: 58303/60000 (97.17%)\n",
      "\n",
      "\n",
      "Test set: Average loss: 0.0356, Accuracy: 9881/10000 (98.81%)\n",
      "\n",
      "********* Epoch = 15 *********\n"
     ]
    },
    {
     "name": "stderr",
     "output_type": "stream",
     "text": [
      "loss=0.0955 batch_id=117: 100%|██████████| 118/118 [06:14<00:00,  3.18s/it]\n"
     ]
    },
    {
     "name": "stdout",
     "output_type": "stream",
     "text": [
      "\n",
      "Epoch 15: Train set: Average loss: 0.0803, Accuracy: 58394/60000 (97.32%)\n",
      "\n",
      "\n",
      "Test set: Average loss: 0.0202, Accuracy: 9935/10000 (99.35%)\n",
      "\n"
     ]
    }
   ],
   "source": [
    "optimizer = optim.Adam(model.parameters(), lr=0.001)\n",
    "scheduler = ReduceLROnPlateau(\n",
    "    optimizer,\n",
    "    mode=\"max\",\n",
    "    factor=0.1,\n",
    "    patience=2,\n",
    "    verbose=True,\n",
    "    min_lr=1e-6,\n",
    ")\n",
    "\n",
    "for epoch in range(1, 16):\n",
    "    print(f\"********* Epoch = {epoch} *********\")\n",
    "    train(model, device, train_loader, optimizer, epoch)\n",
    "    _, acc = test(model, device, test_loader)\n",
    "    scheduler.step(acc)"
   ]
  },
  {
   "cell_type": "code",
   "execution_count": 16,
   "metadata": {},
   "outputs": [
    {
     "data": {
      "text/plain": [
       "[0.0001]"
      ]
     },
     "execution_count": 16,
     "metadata": {},
     "output_type": "execute_result"
    }
   ],
   "source": [
    "scheduler.get_last_lr()"
   ]
  },
  {
   "cell_type": "code",
   "execution_count": null,
   "metadata": {},
   "outputs": [],
   "source": []
  }
 ],
 "metadata": {
  "kernelspec": {
   "display_name": "era_dl_env",
   "language": "python",
   "name": "python3"
  },
  "language_info": {
   "codemirror_mode": {
    "name": "ipython",
    "version": 3
   },
   "file_extension": ".py",
   "mimetype": "text/x-python",
   "name": "python",
   "nbconvert_exporter": "python",
   "pygments_lexer": "ipython3",
   "version": "3.10.15"
  }
 },
 "nbformat": 4,
 "nbformat_minor": 2
}
